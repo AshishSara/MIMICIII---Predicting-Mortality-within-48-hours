{
 "cells": [
  {
   "cell_type": "markdown",
   "id": "eea8824ddeb675b7",
   "metadata": {},
   "source": [
    "For our objective, it's particularly important to focus not just on overall accuracy but also on the model's ability to correctly identify the high-risk patients (Class 1). This is why metrics like recall, precision, ROC AUC, and F1-score for the mortality class are essential.\n",
    "\n",
    "Model Interpretation: For some of the more elementary models we performed feature importance analysis,to provide us insights into which factors are most predictive of near-term mortality, helping clinicians understand key risk factors.\n",
    "\n",
    "Use in Clinical Settings: Such models, if deployed in clinical settings, can assist healthcare professionals in making informed decisions, but they should be used as a supplement to, not a replacement for, clinical judgment and expertise.\n"
   ]
  },
  {
   "cell_type": "markdown",
   "id": "5294943113e495ea",
   "metadata": {},
   "source": [
    "Load the features and labels for the specific task (in-hospital mortality at 48 hours). This will involve importing necessary packages and reading the data files."
   ]
  },
  {
   "cell_type": "code",
   "execution_count": 2,
   "id": "initial_id",
   "metadata": {
    "ExecuteTime": {
     "end_time": "2023-12-11T00:22:15.519347Z",
     "start_time": "2023-12-11T00:22:11.283422Z"
    },
    "tags": []
   },
   "outputs": [],
   "source": [
    "import sparse\n",
    "import json\n",
    "import pandas as pd\n",
    "\n",
    "\n",
    "s = sparse.load_npz('Features/s.npz').todense()\n",
    "X = sparse.load_npz('Features/X.npz').todense()\n",
    "\n",
    "s_feature_names = json.load(open('Features/s.feature_names.json', 'r'))\n",
    "X_feature_names = json.load(open('Features/X.feature_names.json', 'r'))\n",
    "\n",
    "df_pop = pd.read_csv('Population/mortality_48h.csv')\n"
   ]
  },
  {
   "cell_type": "markdown",
   "id": "f00f65770f2f6014",
   "metadata": {},
   "source": [
    "Why I decided to combine the time-invariant and time-dependent features for this file\n",
    "\n",
    "Holistic View of Data: Combining both time-invariant and time-dependent features provides a more comprehensive view of each patient's record. Time-invariant data often includes critical baseline information, while time-dependent data captures dynamic changes. Using both together allows the model to make more informed predictions.\n",
    "\n",
    "Model Limitations: Most traditional machine learning models, including Random Forest, expect input data in a tabular format (2D). They are not designed to natively handle 3D tensors (such as those including time steps as a separate dimension). Therefore, reshaping and combining the data into a 2D format makes it compatible with these models.\n",
    "\n",
    "Feature Relationships: By combining the features, you allow the model to learn from both static patient characteristics and their changes over time, potentially uncovering important relationships between these features.\n",
    "\n",
    "Simplifies Model Training: Having a single dataset simplifies the model training process. It allows you to feed all relevant information into the model at once, rather than trying to integrate separate models for time-invariant and time-dependent data.\n",
    "\n",
    "Practicality in Model Evaluation and Deployment: With a single model that considers all features, it's easier to evaluate its performance, tune it, and potentially deploy it in a real-world setting.\n",
    "\n",
    "Caveats\n",
    "Dimensionality: The trade-off is that combining features can lead to high dimensionality, as experienced. This requires careful handling to ensure the model isn't overwhelmed by too many features, some of which might be noisy or irrelevant.\n",
    "Feature Importance Interpretation: When time-dependent features are expanded across time steps, interpreting the model's feature importance can become more complex."
   ]
  },
  {
   "cell_type": "code",
   "execution_count": 3,
   "id": "d8df3a55c10f9aa5",
   "metadata": {
    "ExecuteTime": {
     "end_time": "2023-12-11T00:22:21.334892Z",
     "start_time": "2023-12-11T00:22:19.485912Z"
    },
    "collapsed": false,
    "tags": []
   },
   "outputs": [
    {
     "name": "stdout",
     "output_type": "stream",
     "text": [
      "Shape of time-invariant features (s): (8577, 96)\n",
      "Shape of time-dependent features (X) after reshaping: (8577, 350736)\n",
      "Shape of combined features: (8577, 350832)\n",
      "Total number of features in combined dataset: 350832\n",
      "Total number of feature names: 350832\n"
     ]
    }
   ],
   "source": [
    "import numpy as np\n",
    "\n",
    "# Reshape X from 3D tensor to 2D matrix\n",
    "# The new shape should be (number of patients, time * features)\n",
    "# Assuming the first dimension of X is the number of patients\n",
    "num_patients = X.shape[0]\n",
    "time_steps = X.shape[1]\n",
    "num_features_X = X.shape[2]\n",
    "\n",
    "X_reshaped = X.reshape(num_patients, time_steps * num_features_X)\n",
    "\n",
    "# Concatenate s (time-invariant) and X_reshaped (time-dependent) features\n",
    "# Ensure that both s and X_reshaped have the same number of rows (patients)\n",
    "combined_features = np.concatenate([s, X_reshaped], axis=1)\n",
    "\n",
    "# Now combined_features is your full feature set for the model\n",
    "print(f\"Shape of time-invariant features (s): {s.shape}\")\n",
    "print(f\"Shape of time-dependent features (X) after reshaping: {X_reshaped.shape}\")\n",
    "print(f\"Shape of combined features: {combined_features.shape}\")\n",
    "\n",
    "# Expanding time-dependent feature names for each time step\n",
    "expanded_X_feature_names = [f\"{name}_time{t}\" for t in range(time_steps) for name in X_feature_names]\n",
    "\n",
    "# Combine with time-invariant feature names\n",
    "total_feature_names = s_feature_names + expanded_X_feature_names\n",
    "\n",
    "# Check if the numbers match now\n",
    "print(f\"Total number of features in combined dataset: {combined_features.shape[1]}\")\n",
    "print(f\"Total number of feature names: {len(total_feature_names)}\")\n"
   ]
  },
  {
   "cell_type": "markdown",
   "id": "26b8e57c5c94cebd",
   "metadata": {},
   "source": [
    "Based on the contents of the mortality_48h.csv file provided. The partition column categorizes each record into different sets: typically 'train', 'test', and sometimes 'validation'. We will not use validation for the traditional models as we do not hypothesize that traditional models will perform well enough to do hyperparameter tuning of traditional models. Hence, we will only use Train and Test. "
   ]
  },
  {
   "cell_type": "code",
   "execution_count": 3,
   "id": "cfafc8a9dbec91f6",
   "metadata": {
    "ExecuteTime": {
     "end_time": "2023-12-10T18:25:08.477744Z",
     "start_time": "2023-12-10T18:24:21.688483Z"
    },
    "collapsed": false
   },
   "outputs": [],
   "source": [
    "from imblearn.over_sampling import SMOTE\n",
    "\n",
    "# 'combined_features' is combined dataset from time-invariant and time-dependent data\n",
    "\n",
    "# Separating data based on the predefined splits\n",
    "train_data = combined_features[df_pop['partition'] == 'train']\n",
    "test_data = combined_features[df_pop['partition'] == 'test']\n",
    "# If there's a validation set\n",
    "# validation_data = combined_features[df_population['partition'] == 'validation']\n",
    "\n",
    "# Separating labels\n",
    "train_labels = df_pop[df_pop['partition'] == 'train']['mortality_LABEL']\n",
    "test_labels = df_pop[df_pop['partition'] == 'test']['mortality_LABEL']\n",
    "#validation_labels = df_pop[df_pop['partition'] == 'val']['mortality_LABEL']\n",
    "\n",
    "# Apply SMOTE to balance the training dataset\n",
    "smote = SMOTE(random_state=42)\n",
    "train_data, train_labels = smote.fit_resample(train_data, train_labels)\n"
   ]
  },
  {
   "cell_type": "code",
   "execution_count": 4,
   "id": "58deba5f33ba48b2",
   "metadata": {
    "ExecuteTime": {
     "end_time": "2023-12-09T21:23:52.687530Z",
     "start_time": "2023-12-09T21:23:51.936512Z"
    },
    "collapsed": false
   },
   "outputs": [],
   "source": [
    "# After loading and combining features and labels\n",
    "\n",
    "# Check 1: Ensure matching indices between df_pop and combined_features\n",
    "if len(df_pop) != combined_features.shape[0]:\n",
    "    raise ValueError(\"Mismatch in number of rows between df_pop and combined features\")\n",
    "\n",
    "# Check 2: Check the dimensions of split data\n",
    "if train_data.shape[0] != train_labels.shape[0]:\n",
    "    raise ValueError(\"Mismatch in number of rows between train_data and train_labels\")\n",
    "\n",
    "if test_data.shape[0] != test_labels.shape[0]:\n",
    "    raise ValueError(\"Mismatch in number of rows between test_data and test_labels\")\n",
    "\n",
    "# If you have a validation set\n",
    "'''if validation_labels.shape[0] != df_pop[df_pop['partition'] == 'val'].shape[0]:\n",
    "    raise ValueError(\"Mismatch in number of rows between validation_data and validation_labels\")'''\n",
    "\n",
    "# Check 3: Verify feature concatenation\n",
    "expected_feature_count = s.shape[1] + X_reshaped.shape[1]\n",
    "if combined_features.shape[1] != expected_feature_count:\n",
    "    raise ValueError(\"Mismatch in number of features after concatenation\")\n",
    "\n",
    "# Check 4: Check for NaNs or infinite values\n",
    "if np.isnan(combined_features).any() or np.isinf(combined_features).any():\n",
    "    raise ValueError(\"NaNs or infinite values found in combined features\")\n"
   ]
  },
  {
   "cell_type": "markdown",
   "id": "7dd68d657726f6c1",
   "metadata": {},
   "source": [
    "Given the nature of MIMIC III dataset, which is derived from large-scale electronic health record (EHR) databases and involves high-dimensional feature representations, selecting the right machine learning model is key. The choice of model should balance the ability to handle complex, high-dimensional data with interpretability and computational efficiency.\n",
    "\n",
    "Theoretically Favourable Models\n",
    "Random Forest: This model is excellent for handling high-dimensional data and does not require scaling of features. It's also good for interpretation as it can provide feature importance.\n",
    "\n",
    "Gradient Boosting Machines (GBM): Models like XGBoost or LightGBM are powerful for high-dimensional data and often provide better performance than Random Forest, though they might be less interpretable and require careful tuning.\n",
    "\n",
    "*Neural Networks: Deep learning models can be very effective for complex datasets but require more computational resources. They might be overkill for this task unless I specifically need to model non-linear, complex relationships and interactions in the data. In addition, for neural networks they work with data where the time-dependent and time invariant features are independent instead of combined as shown here. Hence, we will explore them in another notebook.*\n",
    "\n",
    "Logistic Regression with Regularization: If interpretability is a key concern, logistic regression with L1 or L2 regularization can be a good choice. It's simpler than tree-based models but can still handle high-dimensional data with the right regularization.\n",
    "\n",
    "Support Vector Machines (SVM): SVM with a linear or non-linear kernel can be effective, especially if the dataset has clear margins of separation. However, they can be computationally intensive for very large datasets.\n",
    "\n",
    "Model Evaluation\n",
    "Metrics: Given this is a healthcare dataset, metrics like accuracy, precision, recall, F1 score, and especially the Area Under the ROC Curve (AUC-ROC) are important.\n"
   ]
  },
  {
   "cell_type": "markdown",
   "id": "746bf16b36d297b8",
   "metadata": {},
   "source": [
    "**Random Forest**\n",
    "\n",
    "Code Description\n",
    "n_estimators: This parameter specifies the number of trees in the forest. You can experiment with different values, but 100 is a good starting point.\n",
    "random_state: Setting a random state ensures reproducibility.\n",
    "Model Evaluation: The code includes accuracy and ROC AUC metrics, which are standard for classification tasks. The classification report provides a detailed breakdown of precision, recall, and F1-score for each class. ROC AUC, is especially important in binary classification tasks, especially in medical contexts where the balance between sensitivity (true positive rate) and specificity (true negative rate) is important. A value closer to 1 indicates a better model\n",
    "Feature Importance: Random Forest can provide insights into which features are most important for the prediction. You can access this using random_forest_model.feature_importances_."
   ]
  },
  {
   "cell_type": "code",
   "execution_count": 5,
   "id": "f4e2acbc7e573480",
   "metadata": {
    "ExecuteTime": {
     "end_time": "2023-12-09T21:27:03.283753Z",
     "start_time": "2023-12-09T21:24:51.983518Z"
    },
    "collapsed": false
   },
   "outputs": [
    {
     "name": "stdout",
     "output_type": "stream",
     "text": [
      "Accuracy: 0.8971518987341772\n",
      "ROC AUC: 0.5243066709497805\n",
      "Classification Report:\n",
      "              precision    recall  f1-score   support\n",
      "\n",
      "           0       0.90      1.00      0.95      1132\n",
      "           1       0.58      0.05      0.10       132\n",
      "\n",
      "    accuracy                           0.90      1264\n",
      "   macro avg       0.74      0.52      0.52      1264\n",
      "weighted avg       0.87      0.90      0.86      1264\n",
      "\n",
      "Top Feature rankings:\n",
      "1. Feature: 220048_value_1.0_time17, Importance: 0.014689128393348749\n",
      "2. Feature: HR_mask_time30, Importance: 0.014015078488835882\n",
      "3. Feature: DiaBP_mask_time20, Importance: 0.012560731780009547\n",
      "4. Feature: 220048_value_1.0_time42, Importance: 0.011615842104650375\n",
      "5. Feature: 224650_value_1.0_time38, Importance: 0.011223862176114688\n",
      "6. Feature: 220048_value_1.0_time15, Importance: 0.010191888773016274\n",
      "7. Feature: SysBP_mask_time4, Importance: 0.009465946466118138\n",
      "8. Feature: HR_mask_time35, Importance: 0.00887343880631831\n",
      "9. Feature: HR_mask_time21, Importance: 0.008647728763873952\n",
      "10. Feature: DiaBP_mask_time43, Importance: 0.008568155639787122\n"
     ]
    }
   ],
   "source": [
    "from sklearn.ensemble import RandomForestClassifier\n",
    "from sklearn.metrics import accuracy_score, roc_auc_score, classification_report\n",
    "\n",
    "\n",
    "# Initialize the Random Forest model\n",
    "random_forest_model = RandomForestClassifier(n_estimators=100, random_state=42)\n",
    "\n",
    "# Train the model on the training data\n",
    "random_forest_model.fit(train_data, train_labels)\n",
    "\n",
    "# Predict on the test data\n",
    "test_predictions = random_forest_model.predict(test_data)\n",
    "\n",
    "# Evaluate the model\n",
    "accuracy = accuracy_score(test_labels, test_predictions)\n",
    "roc_auc = roc_auc_score(test_labels, test_predictions)\n",
    "\n",
    "print(f\"Accuracy: {accuracy}\")\n",
    "print(f\"ROC AUC: {roc_auc}\")\n",
    "print(\"Classification Report:\")\n",
    "print(classification_report(test_labels, test_predictions))\n",
    "\n",
    "# Feature Importance Analysis\n",
    "importances = random_forest_model.feature_importances_\n",
    "indices = np.argsort(importances)[::-1]\n",
    "\n",
    "print(\"Top Feature rankings:\")\n",
    "for i in range(10):  # Top 10 features; adjust as needed\n",
    "    print(f\"{i + 1}. Feature: {total_feature_names[indices[i]]}, Importance: {importances[indices[i]]}\")"
   ]
  },
  {
   "cell_type": "markdown",
   "id": "20fec490fac3dfb6",
   "metadata": {},
   "source": [
    "I have attached a older Jupyter Notebook that does not scale (class 1) before running the traditional models. Hence, I decided to show the results here for comparison purposes. As we can see, recall and f1-scores have improved after scaling the dataset for this Random Forest model. \n",
    "\n",
    "**Random Forest without Scaling**\n",
    "Accuracy: 0.8955696202531646\n",
    "ROC AUC: 0.5133847306992183\n",
    "Classification Report:\n",
    "              precision    recall  f1-score   support\n",
    "\n",
    "           0       0.90      1.00      0.94      1132\n",
    "           1       0.50      0.03      0.06       132\n",
    "\n",
    "    accuracy                           0.90      1264\n",
    "   macro avg       0.70      0.51      0.50      1264\n",
    "weighted avg       0.86      0.90      0.85      1264"
   ]
  },
  {
   "cell_type": "markdown",
   "id": "969c7d2d3cfb5568",
   "metadata": {},
   "source": [
    "**Understanding the Feature Names**\n",
    "Feature Identifier (e.g., 226104, 225154): These numbers likely correspond to specific measurements, observations, or interventions recorded in the electronic health records. For example, they could be codes for certain lab tests, vital signs, medication administrations, or other clinical data points.\n",
    "\n",
    "Feature Description (e.g., value, InputRoute): This part describes the nature of the feature. For example, value might indicate the recorded value of a measurement, while InputRoute could specify the route of medication administration (like oral, intravenous, etc.).\n",
    "\n",
    "Feature Value (e.g., Unresponsive, 1.0, Absent): This represents the actual value or category of the feature. For instance, Unresponsive might indicate the patient's response status, 1.0 could be a binary indicator (such as presence/absence of a condition or response), and Absent might refer to the absence of a certain clinical sign.\n",
    "\n",
    "Time Point (e.g., time46): This indicates the specific time step in the patient's data timeline. For time-dependent features, each time step (e.g., hour, day) is treated as a separate feature. time46 means the feature's value at the 46th time step (the exact unit depends on how the data was recorded and processed).\n",
    "\n",
    "Understanding in Context\n",
    "To fully understand these features, you would need to refer to the documentation of the MIMIC-III and eICU databases or consult with healthcare professionals familiar with these datasets. They can provide the context behind these identifiers and what each feature represents in a clinical setting.\n",
    "\n",
    "For example, a feature like 226104_value_Unresponsive_time46 might be interpreted as the patient's response status (Unresponsive) recorded at the 46th time step in the dataset.\n",
    "\n",
    "The feature 225154_InputRoute: Continuous Med_value_1.0_time46 could indicate that at the 46th time step, there was a continuous medication administered (value 1.0 meaning 'Yes' or 'Present')."
   ]
  },
  {
   "cell_type": "markdown",
   "id": "f9ddc17a8b81c2e",
   "metadata": {},
   "source": [
    "**Gradient Boosting**\n",
    "\n",
    "Hyperparameter Selection:\n",
    "n_estimators (Number of Trees):\n",
    "\n",
    "Initial Value: 100\n",
    "Rationale: A larger number of trees can improve the model's ability to capture complex patterns, but also increases the risk of overfitting, especially in a high-dimensional space. Starting with 100 is a balanced choice, allowing us to observe model performance without excessive computational demand.\n",
    "Adjustment Consideration: If the model underfits, you may increase this number. If it overfits, decreasing it or adding regularization might help.\n",
    "learning_rate (Shrinkage):\n",
    "\n",
    "Initial Value: 0.1\n",
    "Rationale: This controls the contribution of each tree to the final model. A lower rate requires more trees but can lead to a more robust model. 0.1 is a common starting point that balances model complexity and training efficiency.\n",
    "Adjustment Consideration: If the model trains too slowly or overfits, you might increase this rate. If it underfits, decreasing the rate could help.\n",
    "max_depth (Depth of Each Tree):\n",
    "\n",
    "Initial Value: 5\n",
    "Rationale: Given the high dimensionality, a certain level of depth is required to capture interactions between features. However, too much depth can lead to overfitting. A moderate depth like 5 is a starting point that allows for some complexity without being too prone to overfitting.\n",
    "Adjustment Consideration: If the model underfits, you can increase the depth. If it overfits, reducing the depth or increasing regularization may be beneficial.\n",
    "\n",
    "Feature Importance: XGBoost also provides feature importance, which can be useful for understanding the predictive drivers in your dataset."
   ]
  },
  {
   "cell_type": "code",
   "execution_count": 7,
   "id": "c7d10f511e939b75",
   "metadata": {
    "ExecuteTime": {
     "end_time": "2023-12-09T21:44:22.123582Z",
     "start_time": "2023-12-09T21:38:08.443639Z"
    },
    "collapsed": false
   },
   "outputs": [
    {
     "name": "stdout",
     "output_type": "stream",
     "text": [
      "Accuracy: 0.9018987341772152\n",
      "ROC AUC: 0.6039190491487312\n",
      "Classification Report:\n",
      "              precision    recall  f1-score   support\n",
      "\n",
      "           0       0.92      0.98      0.95      1132\n",
      "           1       0.58      0.23      0.33       132\n",
      "\n",
      "    accuracy                           0.90      1264\n",
      "   macro avg       0.75      0.60      0.64      1264\n",
      "weighted avg       0.88      0.90      0.88      1264\n"
     ]
    }
   ],
   "source": [
    "import xgboost as xgb\n",
    "from sklearn.metrics import accuracy_score, roc_auc_score, classification_report\n",
    "\n",
    "# Initialize the XGBoost classifier\n",
    "xgb_model = xgb.XGBClassifier(n_estimators=100, learning_rate=0.1, max_depth=5, random_state=42)\n",
    "\n",
    "# Train the model on the training data\n",
    "xgb_model.fit(train_data, train_labels)\n",
    "\n",
    "# Predict on the test data\n",
    "xgb_predictions = xgb_model.predict(test_data)\n",
    "\n",
    "# Evaluate the model\n",
    "accuracy = accuracy_score(test_labels, xgb_predictions)\n",
    "roc_auc = roc_auc_score(test_labels, xgb_predictions)\n",
    "\n",
    "print(f\"Accuracy: {accuracy}\")\n",
    "print(f\"ROC AUC: {roc_auc}\")\n",
    "print(\"Classification Report:\")\n",
    "print(classification_report(test_labels, xgb_predictions))\n"
   ]
  },
  {
   "cell_type": "markdown",
   "id": "b2768a9c649efd",
   "metadata": {},
   "source": [
    "So according to the results above, scaling the dataset actually reduced performance of the model. This is sometimes common. \n",
    "\n",
    "Scaling an imbalanced dataset using techniques like SMOTE (Synthetic Minority Over-sampling Technique) can sometimes lead to issues. Here's why:\n",
    "\n",
    "Distribution Assumptions: Many scaling techniques, such as standardization or min-max scaling, assume that the data is normally distributed or at least symmetrically distributed. When we have an imbalanced dataset, especially with outliers, scaling can distort the distribution of smaller classes.\n",
    "\n",
    "Impact on Distance-Based Algorithms: Algorithms that rely on distance calculations, such as k-NN, SVM, or k-means clustering, can be sensitive to scaling. If a dataset is imbalanced, scaling might cause these algorithms to either give too much weight to the minority class or too little, depending on the method used.\n",
    "\n",
    "Overfitting Risk: With an imbalanced dataset, there's a higher risk of overfitting, especially if scaling makes the minority class appear to have less variability than it really does. This can lead to a model that performs well on training data but poorly on unseen data.\n",
    "\n",
    "Effect on Model Performance Metrics: As we've noticed, while accuracy might remain high (because the majority class is predicted well), other performance metrics like ROC AUC, precision, recall, and the f1-score for the minority class may decrease after scaling. This is because these metrics are more sensitive to the performance on the minority class, and scaling might have adversely affected the decision boundary for that class.\n",
    "\n",
    "When using SMOTE for handling imbalanced datasets, it's important to remember that SMOTE works by generating synthetic examples of the minority class. While this can help to balance the classes, it can also introduce synthetic noise if the generated samples don't represent the true underlying distribution well. Moreover, if we apply scaling after using SMOTE, we must be careful that the scaling method doesn't reverse the effect of the oversampling by making the synthetic minority class points less distinguishable.\n",
    "\n",
    "When working with imbalanced datasets, it might be more effective for us to focus on techniques like:\n",
    "\n",
    "Resampling: Either oversampling the minority class or undersampling the majority class to achieve a more balanced dataset.\n",
    "Anomaly Detection: Treating the minority class as anomalies.\n",
    "Specialized Algorithms: Using algorithms that are designed for imbalanced datasets.\n",
    "Adjusted Weights: Giving higher weight to the minority class during training.\n",
    "It's also crucial for us to carefully consider which metric is most important for our specific problem. In cases of imbalanced classes, accuracy can be misleading, and it might be more appropriate for us to focus on precision, recall, the f1-score, or the area under the ROC curve (AUC).\n",
    "\n",
    "\n",
    "\n",
    "Gradient Boosting without scaling\n",
    "\n",
    "Accuracy: 0.9098101265822784\n",
    "ROC AUC: 0.6317592890031052\n",
    "Classification Report:\n",
    "              precision    recall  f1-score   support\n",
    "\n",
    "           0       0.92      0.98      0.95      1132\n",
    "           1       0.66      0.28      0.39       132\n",
    "\n",
    "    accuracy                           0.91      1264\n",
    "   macro avg       0.79      0.63      0.67      1264\n",
    "weighted avg       0.89      0.91      0.89      1264"
   ]
  },
  {
   "cell_type": "code",
   "execution_count": 15,
   "id": "764c754d5f2f254b",
   "metadata": {
    "ExecuteTime": {
     "end_time": "2023-12-06T18:09:46.165780Z",
     "start_time": "2023-12-06T18:09:46.080287Z"
    },
    "collapsed": false
   },
   "outputs": [
    {
     "name": "stdout",
     "output_type": "stream",
     "text": [
      "Top Feature rankings:\n",
      "1. Feature: 220048_value_1.0_time44, Importance: 0.19986073672771454\n",
      "2. Feature: 220048_value_1.0_time27, Importance: 0.029816733673214912\n",
      "3. Feature: 225792_value_1.0_time47, Importance: 0.008849123492836952\n",
      "4. Feature: 225792_value_1.0_time46, Importance: 0.005567485000938177\n",
      "5. Feature: 225158_value_1.0_time47, Importance: 0.0037390629295259714\n",
      "6. Feature: 225154_InputRoute: Continuous Med_value_1.0_time47, Importance: 0.0036323540844023228\n",
      "7. Feature: HR_mask_time11, Importance: 0.0035204270388931036\n",
      "8. Feature: SpO2_mask_time11, Importance: 0.0034957448951900005\n",
      "9. Feature: 225158_value_1.0_time42, Importance: 0.0034921655897051096\n",
      "10. Feature: 225158_InputRoute: Continuous Med_value_1.0_time42, Importance: 0.003482893807813525\n"
     ]
    }
   ],
   "source": [
    "# Get feature importances from the trained XGBoost model\n",
    "xgb_importances = xgb_model.feature_importances_\n",
    "\n",
    "# Sort the feature importances in descending order\n",
    "indices = np.argsort(xgb_importances)[::-1]\n",
    "\n",
    "# Display the top 10 feature importances\n",
    "print(\"Top Feature rankings:\")\n",
    "for i in range(10):  # Adjust the range as needed to display more or fewer features\n",
    "    feature_name = total_feature_names[indices[i]] if indices[i] < len(total_feature_names) else \"Feature Index Out of Bound\"\n",
    "    print(f\"{i + 1}. Feature: {feature_name}, Importance: {xgb_importances[indices[i]]}\")\n"
   ]
  },
  {
   "cell_type": "markdown",
   "id": "e13c90d35961efdc",
   "metadata": {},
   "source": [
    "Interpretation of the Results\n",
    "Time-Dependent Features: Similar to the Random Forest model, the XGBoost model also emphasizes the importance of time-dependent features. This suggests that certain conditions or observations at specific time points are critical in determining the outcome.\n",
    "\n",
    "Feature Specifics: The features identified (e.g., 225792_value_1.0_time47, 226104_value_Unresponsive_time46) correspond to specific measurements, statuses, or interventions recorded in the EHR data. Their significance might reflect clinical conditions or treatments that are particularly relevant to patient outcomes at those times.\n",
    "\n",
    "Clinical Relevance: Each feature likely has a clinical interpretation. For instance, 225792_value_1.0_time47 might indicate a particular measurement or status that is crucial at the 47th time step. The importance of Unresponsive status at a certain time point could be indicative of critical patient conditions.\n",
    "\n",
    "Value Ranges: Some features include value ranges (e.g., (-0.001, 30.0]), which might represent discretized or binned values of continuous variables."
   ]
  },
  {
   "cell_type": "markdown",
   "id": "8916bb9803183f85",
   "metadata": {},
   "source": [
    "**Logistic Regression with L1 Regularization (Lasso)**\n",
    "L1 regularization tends to push coefficients of less important features to exactly zero, thus performing feature selection.\n",
    "\n",
    "\n",
    "\n",
    "Considerations:\n",
    "Regularization Strength: The C parameter in LogisticRegression controls the strength of regularization. Lower values of C specify stronger regularization. You might need to experiment with this parameter to find the best value.\n",
    "\n",
    "Solver: The choice of solver is important especially for large datasets. For L1 regularization, liblinear is a good choice. For L2, you might also consider lbfgs or sag for larger datasets.\n",
    "\n",
    "Max Iterations (max_iter): Depending on your dataset's size and complexity, you might need to increase the number of iterations.\n",
    "\n",
    "Scaling Features: Logistic Regression can benefit from feature scaling, especially if regularization is used.\n",
    "\n",
    "Interpretability: After training, you can examine the coefficients of the model to understand the influence of each feature. Features with larger absolute coefficients are more influential in predicting the outcome."
   ]
  },
  {
   "cell_type": "code",
   "execution_count": 16,
   "id": "c86c4aaeaff510d5",
   "metadata": {
    "ExecuteTime": {
     "end_time": "2023-12-06T18:10:34.655832Z",
     "start_time": "2023-12-06T18:10:12.957855Z"
    },
    "collapsed": false
   },
   "outputs": [
    {
     "name": "stdout",
     "output_type": "stream",
     "text": [
      "Accuracy (L1): 0.8852848101265823\n",
      "ROC AUC (L1): 0.6682594496198737\n",
      "Classification Report (L1):\n",
      "              precision    recall  f1-score   support\n",
      "\n",
      "           0       0.93      0.94      0.94      1132\n",
      "           1       0.44      0.39      0.42       132\n",
      "\n",
      "    accuracy                           0.89      1264\n",
      "   macro avg       0.69      0.67      0.68      1264\n",
      "weighted avg       0.88      0.89      0.88      1264\n"
     ]
    }
   ],
   "source": [
    "from sklearn.linear_model import LogisticRegression\n",
    "from sklearn.metrics import accuracy_score, roc_auc_score, classification_report\n",
    "\n",
    "# Initialize the Logistic Regression model with L1 regularization\n",
    "log_reg_l1 = LogisticRegression(penalty='l1', solver='liblinear', random_state=42, max_iter=100)\n",
    "\n",
    "# Train the model\n",
    "log_reg_l1.fit(train_data, train_labels)\n",
    "\n",
    "# Predict on the test data\n",
    "log_reg_l1_predictions = log_reg_l1.predict(test_data)\n",
    "\n",
    "# Evaluate the model\n",
    "accuracy_l1 = accuracy_score(test_labels, log_reg_l1_predictions)\n",
    "roc_auc_l1 = roc_auc_score(test_labels, log_reg_l1_predictions)\n",
    "\n",
    "print(f\"Accuracy (L1): {accuracy_l1}\")\n",
    "print(f\"ROC AUC (L1): {roc_auc_l1}\")\n",
    "print(\"Classification Report (L1):\")\n",
    "print(classification_report(test_labels, log_reg_l1_predictions))\n",
    "\n"
   ]
  },
  {
   "cell_type": "markdown",
   "id": "79b00671be17dbc4",
   "metadata": {},
   "source": [
    "Similar to gradient boosting and the reasons highlighted there, logistic regression also had worse results once scaled. \n",
    "\n",
    "**Logistic Regression with L1 without scaling**\n",
    "Accuracy (L1): 0.8916139240506329\n",
    "ROC AUC (L1): 0.6584082878252491\n",
    "Classification Report (L1):\n",
    "              precision    recall  f1-score   support\n",
    "\n",
    "           0       0.93      0.95      0.94      1132\n",
    "           1       0.48      0.36      0.41       132\n",
    "\n",
    "    accuracy                           0.89      1264\n",
    "   macro avg       0.70      0.66      0.68      1264\n",
    "weighted avg       0.88      0.89      0.89      1264"
   ]
  },
  {
   "cell_type": "markdown",
   "id": "63c508282168a81",
   "metadata": {},
   "source": [
    "**Logistic Regression with L2 Regularization (Ridge)**\n",
    "L2 regularization tends to shrink the coefficients of less important features, but does not set them to zero."
   ]
  },
  {
   "cell_type": "code",
   "execution_count": 17,
   "id": "d94ae6f498a44c4c",
   "metadata": {
    "ExecuteTime": {
     "end_time": "2023-12-06T18:12:03.409571Z",
     "start_time": "2023-12-06T18:11:25.602994Z"
    },
    "collapsed": false
   },
   "outputs": [
    {
     "name": "stdout",
     "output_type": "stream",
     "text": [
      "Accuracy (L2): 0.8710443037974683\n",
      "ROC AUC (L2): 0.6201547274868829\n",
      "Classification Report (L2):\n",
      "              precision    recall  f1-score   support\n",
      "\n",
      "           0       0.92      0.94      0.93      1132\n",
      "           1       0.36      0.30      0.33       132\n",
      "\n",
      "    accuracy                           0.87      1264\n",
      "   macro avg       0.64      0.62      0.63      1264\n",
      "weighted avg       0.86      0.87      0.87      1264\n"
     ]
    }
   ],
   "source": [
    "# Initialize the Logistic Regression model with L2 regularization\n",
    "log_reg_l2 = LogisticRegression(penalty='l2', solver='liblinear', random_state=42, max_iter=100)\n",
    "\n",
    "# Train the model\n",
    "log_reg_l2.fit(train_data, train_labels)\n",
    "\n",
    "# Predict on the test data\n",
    "log_reg_l2_predictions = log_reg_l2.predict(test_data)\n",
    "\n",
    "# Evaluate the model\n",
    "accuracy_l2 = accuracy_score(test_labels, log_reg_l2_predictions)\n",
    "roc_auc_l2 = roc_auc_score(test_labels, log_reg_l2_predictions)\n",
    "\n",
    "print(f\"Accuracy (L2): {accuracy_l2}\")\n",
    "print(f\"ROC AUC (L2): {roc_auc_l2}\")\n",
    "print(\"Classification Report (L2):\")\n",
    "print(classification_report(test_labels, log_reg_l2_predictions))\n"
   ]
  },
  {
   "cell_type": "markdown",
   "id": "9acc357763d539bd",
   "metadata": {},
   "source": [
    "**Logistic Regression with L2 without scaling**\n",
    "Accuracy (L2): 0.8884493670886076\n",
    "ROC AUC (L2): 0.6198334939501017\n",
    "Classification Report (L2):\n",
    "              precision    recall  f1-score   support\n",
    "\n",
    "           0       0.92      0.96      0.94      1132\n",
    "           1       0.45      0.28      0.34       132\n",
    "\n",
    "    accuracy                           0.89      1264\n",
    "   macro avg       0.68      0.62      0.64      1264\n",
    "weighted avg       0.87      0.89      0.88      1264"
   ]
  },
  {
   "cell_type": "markdown",
   "id": "53104c2313e60797",
   "metadata": {},
   "source": [
    "**SVM**\n",
    "Considerations\n",
    "Calibration of Probabilities: LinearSVC doesn't output probabilities by default, which are needed for ROC AUC. CalibratedClassifierCV is used to calibrate probabilities in a post-processing step.\n",
    "\n",
    "Maximum Iterations (max_iter): This parameter may need adjustment. Increase it if the algorithm doesn't converge, but be aware that higher values will increase computation time.\n",
    "\n",
    "Handling Large Datasets: Linear SVMs are generally more scalable for large datasets, but if you still face computational issues, consider using a subset of the data or feature selection techniques to reduce dimensionality.\n",
    "\n",
    "Non-linear SVM: If the linear SVM does not perform adequately, exploring non-linear kernels like RBF might be beneficial, though at a higher computational cost."
   ]
  },
  {
   "cell_type": "code",
   "execution_count": 18,
   "id": "ddda914623641420",
   "metadata": {
    "ExecuteTime": {
     "end_time": "2023-12-06T18:15:36.436791Z",
     "start_time": "2023-12-06T18:12:32.082520Z"
    },
    "collapsed": false
   },
   "outputs": [
    {
     "name": "stderr",
     "output_type": "stream",
     "text": [
      "/Users/ashishsaragadam/anaconda3/lib/python3.11/site-packages/sklearn/svm/_classes.py:32: FutureWarning: The default value of `dual` will change from `True` to `'auto'` in 1.5. Set the value of `dual` explicitly to suppress the warning.\n",
      "  warnings.warn(\n",
      "/Users/ashishsaragadam/anaconda3/lib/python3.11/site-packages/sklearn/svm/_base.py:1250: ConvergenceWarning: Liblinear failed to converge, increase the number of iterations.\n",
      "  warnings.warn(\n",
      "/Users/ashishsaragadam/anaconda3/lib/python3.11/site-packages/sklearn/svm/_classes.py:32: FutureWarning: The default value of `dual` will change from `True` to `'auto'` in 1.5. Set the value of `dual` explicitly to suppress the warning.\n",
      "  warnings.warn(\n",
      "/Users/ashishsaragadam/anaconda3/lib/python3.11/site-packages/sklearn/svm/_classes.py:32: FutureWarning: The default value of `dual` will change from `True` to `'auto'` in 1.5. Set the value of `dual` explicitly to suppress the warning.\n",
      "  warnings.warn(\n",
      "/Users/ashishsaragadam/anaconda3/lib/python3.11/site-packages/sklearn/svm/_classes.py:32: FutureWarning: The default value of `dual` will change from `True` to `'auto'` in 1.5. Set the value of `dual` explicitly to suppress the warning.\n",
      "  warnings.warn(\n",
      "/Users/ashishsaragadam/anaconda3/lib/python3.11/site-packages/sklearn/svm/_classes.py:32: FutureWarning: The default value of `dual` will change from `True` to `'auto'` in 1.5. Set the value of `dual` explicitly to suppress the warning.\n",
      "  warnings.warn(\n"
     ]
    },
    {
     "name": "stdout",
     "output_type": "stream",
     "text": [
      "Accuracy: 0.8924050632911392\n",
      "ROC AUC: 0.5751351857800622\n",
      "Classification Report:\n",
      "              precision    recall  f1-score   support\n",
      "\n",
      "           0       0.90      0.98      0.94      1132\n",
      "           1       0.44      0.11      0.18       132\n",
      "\n",
      "    accuracy                           0.89      1264\n",
      "   macro avg       0.67      0.55      0.56      1264\n",
      "weighted avg       0.86      0.89      0.86      1264\n"
     ]
    }
   ],
   "source": [
    "from sklearn.svm import LinearSVC\n",
    "from sklearn.metrics import accuracy_score, roc_auc_score, classification_report\n",
    "from sklearn.calibration import CalibratedClassifierCV\n",
    "\n",
    "# Initialize the Linear SVM model\n",
    "linear_svc = LinearSVC(random_state=42, max_iter=1000)\n",
    "\n",
    "# Calibrate probabilities\n",
    "svm_calibrated = CalibratedClassifierCV(linear_svc) \n",
    "\n",
    "# Train the model\n",
    "svm_calibrated.fit(train_data, train_labels)\n",
    "\n",
    "# Predict on the test data\n",
    "svm_predictions = svm_calibrated.predict(test_data)\n",
    "svm_probabilities = svm_calibrated.predict_proba(test_data)[:, 1]  # Probabilities for ROC AUC\n",
    "\n",
    "# Evaluate the model\n",
    "accuracy = accuracy_score(test_labels, svm_predictions)\n",
    "roc_auc = roc_auc_score(test_labels, svm_probabilities)\n",
    "\n",
    "print(f\"Accuracy: {accuracy}\")\n",
    "print(f\"ROC AUC: {roc_auc}\")\n",
    "print(\"Classification Report:\")\n",
    "print(classification_report(test_labels, svm_predictions))\n"
   ]
  },
  {
   "cell_type": "markdown",
   "id": "679ce682a53ca4ab",
   "metadata": {},
   "source": [
    "Similar logistic regression and gradient boosting, SVM also had worse results after scaling the dataset. \n",
    "\n",
    "**SVM without scaling**\n",
    "Accuracy: 0.9003164556962026\n",
    "ROC AUC: 0.8151434843130956\n",
    "Classification Report:\n",
    "              precision    recall  f1-score   support\n",
    "\n",
    "           0       0.91      0.98      0.95      1132\n",
    "           1       0.57      0.18      0.28       132\n",
    "\n",
    "    accuracy                           0.90      1264\n",
    "   macro avg       0.74      0.58      0.61      1264\n",
    "weighted avg       0.88      0.90      0.88      1264\n",
    "\n",
    "Overall, after implementing scaling using SMOTE, the only model that improved was Random Forest, with all other models applied seeing a slight decrease in performance, with the largest decrease in performance seen for SVM, below are the results for previous models with scaling.\n",
    "\n",
    "Using SMOTE (Synthetic Minority Over-sampling Technique) on highly unbalanced datasets and observing a decrease in performance for some machine learning models is not uncommon. Here are a few reasons why this might happen:\n",
    "\n",
    "- Overfitting to Minority Class: SMOTE generates synthetic samples for the minority class, which can lead to models overfitting to these synthetic examples. This overfitting can degrade the model's performance, especially on unseen data.\n",
    "\n",
    "- Quality of Synthetic Samples: The synthetic samples generated by SMOTE may not always represent the true underlying distribution of the minority class. This can lead to a model learning from inaccurate or misleading data.\n",
    "\n",
    "- Model Sensitivity: Different models have varying sensitivities to the balance of classes. Some models might perform better with imbalanced data, while others might benefit from a more balanced dataset. For instance, tree-based models like Random Forests are often less sensitive to class imbalance compared to models like logistic regression or neural networks.\n",
    "\n",
    "- Data Complexity: If the data is complex and the minority class is not well-defined (i.e., the boundary between classes is not clear), then oversampling might introduce noise rather than helpful information.\n",
    "\n",
    "- Evaluation Metrics: The choice of evaluation metrics is crucial. Metrics like accuracy can be misleading in the context of imbalanced datasets. It's important to use more appropriate metrics like F1-score, precision-recall AUC, or balanced accuracy.\n",
    "\n",
    "- Data Distribution and Complexity: If the minority class is very small or if the data has high-dimensional features, SMOTE might not effectively capture the complexity of the data, leading to poorer model performance."
   ]
  },
  {
   "cell_type": "markdown",
   "id": "85c71e3bb16a1d07",
   "metadata": {},
   "source": [
    "**RNN**\n",
    "\n",
    "So remember how we reshaped and combined the time-dependent (X) and time-invariant (s) features into a single 2D matrix (combined_features)? This format was suitable for models like Random Forest, XGBoost, and Logistic Regression.\n",
    "\n",
    " Reshape X from 3D tensor to 2D matrix\n",
    "The new shape should be (number of patients, time * features)\n",
    "Assuming the first dimension of X is the number of patients\n",
    "num_patients = X.shape[0]\n",
    "time_steps = X.shape[1]\n",
    "num_features_X = X.shape[2]\n",
    "\n",
    "X_reshaped = X.reshape(num_patients, time_steps * num_features_X)\n",
    "\n",
    "Concatenate s (time-invariant) and X_reshaped (time-dependent) features\n",
    "Ensure that both s and X_reshaped have the same number of rows (patients)\n",
    "combined_features = np.concatenate([s, X_reshaped], axis=1)'\n",
    "\n",
    "However, for an RNN, we need to maintain the time-dependent features in their original 3D tensor format and handle the time-invariant features differently, as RNNs are designed to process sequential data. Let's adjust the preparation of your data for the RNN model.\n",
    "\n",
    "Adjusting Data for RNN\n",
    "Revert to Original 3D Tensor for Time-Dependent Features: Need to use X in its original (num_patients, time_steps, num_features_X) format.\n",
    "\n",
    "Repeat Time-Invariant Features for Each Time Step: Repeat s for each time step and concatenate it with X along the feature dimension."
   ]
  },
  {
   "cell_type": "code",
   "execution_count": 4,
   "id": "774c51ee02e05a1",
   "metadata": {
    "ExecuteTime": {
     "end_time": "2023-12-11T00:22:59.584651Z",
     "start_time": "2023-12-11T00:22:55.738022Z"
    },
    "collapsed": false,
    "tags": []
   },
   "outputs": [
    {
     "name": "stdout",
     "output_type": "stream",
     "text": [
      "Shape of time-dependent features (X): (8577, 48, 7307)\n",
      "Shape of repeated time-invariant features (s): (8577, 48, 96)\n",
      "Shape of RNN input: (8577, 48, 7403)\n"
     ]
    }
   ],
   "source": [
    "import numpy as np\n",
    "# Repeat time-invariant features (s) for each time step\n",
    "s_repeated = np.repeat(s[:, np.newaxis, :], time_steps, axis=1)\n",
    "\n",
    "# Concatenate with time-dependent features (X) along the feature dimension\n",
    "rnn_input = np.concatenate([X, s_repeated], axis=-1)\n",
    "\n",
    "# Now, 'rnn_input' is in the correct format for RNN input\n",
    "print(f\"Shape of time-dependent features (X): {X.shape}\")\n",
    "print(f\"Shape of repeated time-invariant features (s): {s_repeated.shape}\")\n",
    "print(f\"Shape of RNN input: {rnn_input.shape}\")"
   ]
  },
  {
   "cell_type": "markdown",
   "id": "b808363d07fcda01",
   "metadata": {},
   "source": [
    "What does the output above mean?\n",
    "\n",
    "Time-Dependent Features (X): (8577, 48, 7307)\n",
    "\n",
    "You have 8,577 patients.\n",
    "Each patient has data recorded over 48 time steps.\n",
    "There are 7,307 features per time step.\n",
    "\n",
    "Repeated Time-Invariant Features (s): (8577, 48, 96)\n",
    "The 96 time-invariant features are repeated for each of the 48 time steps.\n",
    "\n",
    "Combined RNN Input: (8577, 48, 7403)\n",
    "Each patient's data is now a sequence of 48 time steps.\n",
    "At each time step, there are 7,403 features (7,307 time-dependent + 96 time-invariant)."
   ]
  },
  {
   "cell_type": "markdown",
   "id": "907879e87f8cb70f",
   "metadata": {},
   "source": [
    "\n",
    "\n",
    "Since the format of the data for the RNN is different from what we used for the other models, we need to adjust the way you partition the data into training, testing, and validation sets.\n",
    "\n",
    "For the RNN, we have the rnn_input tensor that combines both the time-dependent and time-invariant features appropriately. we need to split this tensor along with the labels according to the partitions indicated in df_pop."
   ]
  },
  {
   "cell_type": "code",
   "execution_count": 5,
   "id": "a4d842c3bf9e3bd7",
   "metadata": {
    "ExecuteTime": {
     "end_time": "2023-12-11T00:23:33.381665Z",
     "start_time": "2023-12-11T00:23:30.073873Z"
    },
    "collapsed": false,
    "tags": []
   },
   "outputs": [],
   "source": [
    "# Create boolean masks for train, test, and validation partitions\n",
    "train_mask = df_pop['partition'] == 'train'\n",
    "test_mask = df_pop['partition'] == 'test'\n",
    "val_mask = df_pop['partition'] == 'val' \n",
    "\n",
    "# Split the rnn_input tensor and labels according to the partitions\n",
    "rnn_input_train = rnn_input[train_mask]\n",
    "rnn_input_test = rnn_input[test_mask]\n",
    "rnn_input_val = rnn_input[val_mask]  \n",
    "\n",
    "train_labels = df_pop[train_mask]['mortality_LABEL']\n",
    "test_labels = df_pop[test_mask]['mortality_LABEL']\n",
    "val_labels = df_pop[val_mask]['mortality_LABEL']  "
   ]
  },
  {
   "cell_type": "code",
   "execution_count": 20,
   "id": "3514ac54b7edafb1",
   "metadata": {
    "ExecuteTime": {
     "start_time": "2023-12-11T00:23:38.371777Z"
    },
    "collapsed": false,
    "is_executing": true,
    "tags": []
   },
   "outputs": [
    {
     "name": "stdout",
     "output_type": "stream",
     "text": [
      "Epoch 1/10\n",
      "189/189 [==============================] - 38s 198ms/step\n",
      "40/40 [==============================] - 8s 193ms/step\n"
     ]
    },
    {
     "ename": "ValueError",
     "evalue": "Found array with dim 3. None expected <= 2.",
     "output_type": "error",
     "traceback": [
      "\u001B[0;31m---------------------------------------------------------------------------\u001B[0m",
      "\u001B[0;31mValueError\u001B[0m                                Traceback (most recent call last)",
      "Cell \u001B[0;32mIn[20], line 33\u001B[0m\n\u001B[1;32m     29\u001B[0m rocauc_callback \u001B[38;5;241m=\u001B[39m RocAucCallback(training_data\u001B[38;5;241m=\u001B[39m(rnn_input_train, train_labels),\n\u001B[1;32m     30\u001B[0m                                  validation_data\u001B[38;5;241m=\u001B[39m(rnn_input_val, val_labels))\n\u001B[1;32m     32\u001B[0m \u001B[38;5;66;03m# Train the model with validation data and the custom callback\u001B[39;00m\n\u001B[0;32m---> 33\u001B[0m model\u001B[38;5;241m.\u001B[39mfit(rnn_input_train, train_labels, epochs\u001B[38;5;241m=\u001B[39m\u001B[38;5;241m10\u001B[39m, batch_size\u001B[38;5;241m=\u001B[39m\u001B[38;5;241m64\u001B[39m, \n\u001B[1;32m     34\u001B[0m           validation_data\u001B[38;5;241m=\u001B[39m(rnn_input_val, val_labels), callbacks\u001B[38;5;241m=\u001B[39m[rocauc_callback])\n\u001B[1;32m     36\u001B[0m \u001B[38;5;66;03m# Evaluate the model on the test set\u001B[39;00m\n\u001B[1;32m     37\u001B[0m loss, accuracy \u001B[38;5;241m=\u001B[39m model\u001B[38;5;241m.\u001B[39mevaluate(rnn_input_test, test_labels)\n",
      "File \u001B[0;32m~/anaconda3/lib/python3.11/site-packages/keras/src/utils/traceback_utils.py:70\u001B[0m, in \u001B[0;36mfilter_traceback.<locals>.error_handler\u001B[0;34m(*args, **kwargs)\u001B[0m\n\u001B[1;32m     67\u001B[0m     filtered_tb \u001B[38;5;241m=\u001B[39m _process_traceback_frames(e\u001B[38;5;241m.\u001B[39m__traceback__)\n\u001B[1;32m     68\u001B[0m     \u001B[38;5;66;03m# To get the full stack trace, call:\u001B[39;00m\n\u001B[1;32m     69\u001B[0m     \u001B[38;5;66;03m# `tf.debugging.disable_traceback_filtering()`\u001B[39;00m\n\u001B[0;32m---> 70\u001B[0m     \u001B[38;5;28;01mraise\u001B[39;00m e\u001B[38;5;241m.\u001B[39mwith_traceback(filtered_tb) \u001B[38;5;28;01mfrom\u001B[39;00m \u001B[38;5;28;01mNone\u001B[39;00m\n\u001B[1;32m     71\u001B[0m \u001B[38;5;28;01mfinally\u001B[39;00m:\n\u001B[1;32m     72\u001B[0m     \u001B[38;5;28;01mdel\u001B[39;00m filtered_tb\n",
      "Cell \u001B[0;32mIn[20], line 16\u001B[0m, in \u001B[0;36mRocAucCallback.on_epoch_end\u001B[0;34m(self, epoch, logs)\u001B[0m\n\u001B[1;32m     14\u001B[0m y_train_pred \u001B[38;5;241m=\u001B[39m \u001B[38;5;28mself\u001B[39m\u001B[38;5;241m.\u001B[39mmodel\u001B[38;5;241m.\u001B[39mpredict(\u001B[38;5;28mself\u001B[39m\u001B[38;5;241m.\u001B[39mx_train)\n\u001B[1;32m     15\u001B[0m y_val_pred \u001B[38;5;241m=\u001B[39m \u001B[38;5;28mself\u001B[39m\u001B[38;5;241m.\u001B[39mmodel\u001B[38;5;241m.\u001B[39mpredict(\u001B[38;5;28mself\u001B[39m\u001B[38;5;241m.\u001B[39mx_val)\n\u001B[0;32m---> 16\u001B[0m roc_auc_train \u001B[38;5;241m=\u001B[39m roc_auc_score(\u001B[38;5;28mself\u001B[39m\u001B[38;5;241m.\u001B[39my_train, y_train_pred)\n\u001B[1;32m     17\u001B[0m roc_auc_val \u001B[38;5;241m=\u001B[39m roc_auc_score(\u001B[38;5;28mself\u001B[39m\u001B[38;5;241m.\u001B[39my_val, y_val_pred)\n\u001B[1;32m     18\u001B[0m \u001B[38;5;28mprint\u001B[39m(\u001B[38;5;124mf\u001B[39m\u001B[38;5;124m'\u001B[39m\u001B[38;5;124mEpoch \u001B[39m\u001B[38;5;132;01m{\u001B[39;00mepoch\u001B[38;5;241m+\u001B[39m\u001B[38;5;241m1\u001B[39m\u001B[38;5;132;01m}\u001B[39;00m\u001B[38;5;124m: roc_auc_train: \u001B[39m\u001B[38;5;132;01m{\u001B[39;00mroc_auc_train\u001B[38;5;132;01m}\u001B[39;00m\u001B[38;5;124m, roc_auc_val: \u001B[39m\u001B[38;5;132;01m{\u001B[39;00mroc_auc_val\u001B[38;5;132;01m}\u001B[39;00m\u001B[38;5;124m'\u001B[39m)\n",
      "File \u001B[0;32m~/anaconda3/lib/python3.11/site-packages/sklearn/utils/_param_validation.py:214\u001B[0m, in \u001B[0;36mvalidate_params.<locals>.decorator.<locals>.wrapper\u001B[0;34m(*args, **kwargs)\u001B[0m\n\u001B[1;32m    208\u001B[0m \u001B[38;5;28;01mtry\u001B[39;00m:\n\u001B[1;32m    209\u001B[0m     \u001B[38;5;28;01mwith\u001B[39;00m config_context(\n\u001B[1;32m    210\u001B[0m         skip_parameter_validation\u001B[38;5;241m=\u001B[39m(\n\u001B[1;32m    211\u001B[0m             prefer_skip_nested_validation \u001B[38;5;129;01mor\u001B[39;00m global_skip_validation\n\u001B[1;32m    212\u001B[0m         )\n\u001B[1;32m    213\u001B[0m     ):\n\u001B[0;32m--> 214\u001B[0m         \u001B[38;5;28;01mreturn\u001B[39;00m func(\u001B[38;5;241m*\u001B[39margs, \u001B[38;5;241m*\u001B[39m\u001B[38;5;241m*\u001B[39mkwargs)\n\u001B[1;32m    215\u001B[0m \u001B[38;5;28;01mexcept\u001B[39;00m InvalidParameterError \u001B[38;5;28;01mas\u001B[39;00m e:\n\u001B[1;32m    216\u001B[0m     \u001B[38;5;66;03m# When the function is just a wrapper around an estimator, we allow\u001B[39;00m\n\u001B[1;32m    217\u001B[0m     \u001B[38;5;66;03m# the function to delegate validation to the estimator, but we replace\u001B[39;00m\n\u001B[1;32m    218\u001B[0m     \u001B[38;5;66;03m# the name of the estimator by the name of the function in the error\u001B[39;00m\n\u001B[1;32m    219\u001B[0m     \u001B[38;5;66;03m# message to avoid confusion.\u001B[39;00m\n\u001B[1;32m    220\u001B[0m     msg \u001B[38;5;241m=\u001B[39m re\u001B[38;5;241m.\u001B[39msub(\n\u001B[1;32m    221\u001B[0m         \u001B[38;5;124mr\u001B[39m\u001B[38;5;124m\"\u001B[39m\u001B[38;5;124mparameter of \u001B[39m\u001B[38;5;124m\\\u001B[39m\u001B[38;5;124mw+ must be\u001B[39m\u001B[38;5;124m\"\u001B[39m,\n\u001B[1;32m    222\u001B[0m         \u001B[38;5;124mf\u001B[39m\u001B[38;5;124m\"\u001B[39m\u001B[38;5;124mparameter of \u001B[39m\u001B[38;5;132;01m{\u001B[39;00mfunc\u001B[38;5;241m.\u001B[39m\u001B[38;5;18m__qualname__\u001B[39m\u001B[38;5;132;01m}\u001B[39;00m\u001B[38;5;124m must be\u001B[39m\u001B[38;5;124m\"\u001B[39m,\n\u001B[1;32m    223\u001B[0m         \u001B[38;5;28mstr\u001B[39m(e),\n\u001B[1;32m    224\u001B[0m     )\n",
      "File \u001B[0;32m~/anaconda3/lib/python3.11/site-packages/sklearn/metrics/_ranking.py:606\u001B[0m, in \u001B[0;36mroc_auc_score\u001B[0;34m(y_true, y_score, average, sample_weight, max_fpr, multi_class, labels)\u001B[0m\n\u001B[1;32m    604\u001B[0m y_type \u001B[38;5;241m=\u001B[39m type_of_target(y_true, input_name\u001B[38;5;241m=\u001B[39m\u001B[38;5;124m\"\u001B[39m\u001B[38;5;124my_true\u001B[39m\u001B[38;5;124m\"\u001B[39m)\n\u001B[1;32m    605\u001B[0m y_true \u001B[38;5;241m=\u001B[39m check_array(y_true, ensure_2d\u001B[38;5;241m=\u001B[39m\u001B[38;5;28;01mFalse\u001B[39;00m, dtype\u001B[38;5;241m=\u001B[39m\u001B[38;5;28;01mNone\u001B[39;00m)\n\u001B[0;32m--> 606\u001B[0m y_score \u001B[38;5;241m=\u001B[39m check_array(y_score, ensure_2d\u001B[38;5;241m=\u001B[39m\u001B[38;5;28;01mFalse\u001B[39;00m)\n\u001B[1;32m    608\u001B[0m \u001B[38;5;28;01mif\u001B[39;00m y_type \u001B[38;5;241m==\u001B[39m \u001B[38;5;124m\"\u001B[39m\u001B[38;5;124mmulticlass\u001B[39m\u001B[38;5;124m\"\u001B[39m \u001B[38;5;129;01mor\u001B[39;00m (\n\u001B[1;32m    609\u001B[0m     y_type \u001B[38;5;241m==\u001B[39m \u001B[38;5;124m\"\u001B[39m\u001B[38;5;124mbinary\u001B[39m\u001B[38;5;124m\"\u001B[39m \u001B[38;5;129;01mand\u001B[39;00m y_score\u001B[38;5;241m.\u001B[39mndim \u001B[38;5;241m==\u001B[39m \u001B[38;5;241m2\u001B[39m \u001B[38;5;129;01mand\u001B[39;00m y_score\u001B[38;5;241m.\u001B[39mshape[\u001B[38;5;241m1\u001B[39m] \u001B[38;5;241m>\u001B[39m \u001B[38;5;241m2\u001B[39m\n\u001B[1;32m    610\u001B[0m ):\n\u001B[1;32m    611\u001B[0m     \u001B[38;5;66;03m# do not support partial ROC computation for multiclass\u001B[39;00m\n\u001B[1;32m    612\u001B[0m     \u001B[38;5;28;01mif\u001B[39;00m max_fpr \u001B[38;5;129;01mis\u001B[39;00m \u001B[38;5;129;01mnot\u001B[39;00m \u001B[38;5;28;01mNone\u001B[39;00m \u001B[38;5;129;01mand\u001B[39;00m max_fpr \u001B[38;5;241m!=\u001B[39m \u001B[38;5;241m1.0\u001B[39m:\n",
      "File \u001B[0;32m~/anaconda3/lib/python3.11/site-packages/sklearn/utils/validation.py:951\u001B[0m, in \u001B[0;36mcheck_array\u001B[0;34m(array, accept_sparse, accept_large_sparse, dtype, order, copy, force_all_finite, ensure_2d, allow_nd, ensure_min_samples, ensure_min_features, estimator, input_name)\u001B[0m\n\u001B[1;32m    946\u001B[0m     \u001B[38;5;28;01mraise\u001B[39;00m \u001B[38;5;167;01mValueError\u001B[39;00m(\n\u001B[1;32m    947\u001B[0m         \u001B[38;5;124m\"\u001B[39m\u001B[38;5;124mdtype=\u001B[39m\u001B[38;5;124m'\u001B[39m\u001B[38;5;124mnumeric\u001B[39m\u001B[38;5;124m'\u001B[39m\u001B[38;5;124m is not compatible with arrays of bytes/strings.\u001B[39m\u001B[38;5;124m\"\u001B[39m\n\u001B[1;32m    948\u001B[0m         \u001B[38;5;124m\"\u001B[39m\u001B[38;5;124mConvert your data to numeric values explicitly instead.\u001B[39m\u001B[38;5;124m\"\u001B[39m\n\u001B[1;32m    949\u001B[0m     )\n\u001B[1;32m    950\u001B[0m \u001B[38;5;28;01mif\u001B[39;00m \u001B[38;5;129;01mnot\u001B[39;00m allow_nd \u001B[38;5;129;01mand\u001B[39;00m array\u001B[38;5;241m.\u001B[39mndim \u001B[38;5;241m>\u001B[39m\u001B[38;5;241m=\u001B[39m \u001B[38;5;241m3\u001B[39m:\n\u001B[0;32m--> 951\u001B[0m     \u001B[38;5;28;01mraise\u001B[39;00m \u001B[38;5;167;01mValueError\u001B[39;00m(\n\u001B[1;32m    952\u001B[0m         \u001B[38;5;124m\"\u001B[39m\u001B[38;5;124mFound array with dim \u001B[39m\u001B[38;5;132;01m%d\u001B[39;00m\u001B[38;5;124m. \u001B[39m\u001B[38;5;132;01m%s\u001B[39;00m\u001B[38;5;124m expected <= 2.\u001B[39m\u001B[38;5;124m\"\u001B[39m\n\u001B[1;32m    953\u001B[0m         \u001B[38;5;241m%\u001B[39m (array\u001B[38;5;241m.\u001B[39mndim, estimator_name)\n\u001B[1;32m    954\u001B[0m     )\n\u001B[1;32m    956\u001B[0m \u001B[38;5;28;01mif\u001B[39;00m force_all_finite:\n\u001B[1;32m    957\u001B[0m     _assert_all_finite(\n\u001B[1;32m    958\u001B[0m         array,\n\u001B[1;32m    959\u001B[0m         input_name\u001B[38;5;241m=\u001B[39minput_name,\n\u001B[1;32m    960\u001B[0m         estimator_name\u001B[38;5;241m=\u001B[39mestimator_name,\n\u001B[1;32m    961\u001B[0m         allow_nan\u001B[38;5;241m=\u001B[39mforce_all_finite \u001B[38;5;241m==\u001B[39m \u001B[38;5;124m\"\u001B[39m\u001B[38;5;124mallow-nan\u001B[39m\u001B[38;5;124m\"\u001B[39m,\n\u001B[1;32m    962\u001B[0m     )\n",
      "\u001B[0;31mValueError\u001B[0m: Found array with dim 3. None expected <= 2."
     ]
    }
   ],
   "source": [
    "import tensorflow as tf\n",
    "from tensorflow.keras.models import Sequential\n",
    "from tensorflow.keras.layers import SimpleRNN, Dense\n",
    "from sklearn.metrics import roc_auc_score\n",
    "from tensorflow.keras.callbacks import Callback\n",
    "\n",
    "# Custom callback to compute ROC AUC after each epoch\n",
    "class RocAucCallback(Callback):\n",
    "    def __init__(self, training_data, validation_data):\n",
    "        self.x_train, self.y_train = training_data\n",
    "        self.x_val, self.y_val = validation_data\n",
    "\n",
    "    def on_epoch_end(self, epoch, logs=None):\n",
    "        y_train_pred = self.model.predict(self.x_train)\n",
    "        y_val_pred = self.model.predict(self.x_val)\n",
    "        roc_auc_train = roc_auc_score(self.y_train, y_train_pred)\n",
    "        roc_auc_val = roc_auc_score(self.y_val, y_val_pred)\n",
    "        print(f'Epoch {epoch+1}: roc_auc_train: {roc_auc_train}, roc_auc_val: {roc_auc_val}')\n",
    "\n",
    "# Define the RNN model\n",
    "model = Sequential()\n",
    "model.add(SimpleRNN(50, return_sequences=True, input_shape=(48, 7403)))\n",
    "model.add(Dense(1, activation='sigmoid'))\n",
    "\n",
    "# Compile the model\n",
    "model.compile(optimizer='adam', loss='binary_crossentropy', metrics=['accuracy'])\n",
    "\n",
    "# Instantiate the RocAucCallback\n",
    "rocauc_callback = RocAucCallback(training_data=(rnn_input_train, train_labels),\n",
    "                                 validation_data=(rnn_input_val, val_labels))\n",
    "\n",
    "# Train the model with validation data and the custom callback\n",
    "model.fit(rnn_input_train, train_labels, epochs=10, batch_size=64, \n",
    "          validation_data=(rnn_input_val, val_labels), callbacks=[rocauc_callback])\n",
    "\n",
    "# Evaluate the model on the test set\n",
    "loss, accuracy = model.evaluate(rnn_input_test, test_labels)\n",
    "print(f\"Test Loss: {loss}, Test Accuracy: {accuracy}\")\n",
    "\n",
    "# Calculate and print ROC AUC for the test set\n",
    "test_predictions = model.predict(rnn_input_test)\n",
    "roc_auc_test = roc_auc_score(test_labels, test_predictions)\n",
    "print(f\"Test ROC AUC: {roc_auc_test}\")"
   ]
  },
  {
   "cell_type": "markdown",
   "id": "f68707b58624e09b",
   "metadata": {},
   "source": [
    "Here we are left with a dilemma\n",
    "\n",
    "The error encountered, ValueError: Found array with dim 3. None expected <= 2, is due to the roc_auc_score function expecting 1D array predictions and true labels, but the predictions made by your RNN model are 3D due to the return_sequences=True parameter in the SimpleRNN layer.\n",
    "\n",
    "\n",
    "To resolve this issue, we have two main options:\n",
    "\n",
    "Change return_sequences to False: This will make the RNN output predictions only for the last time step. It's the standard approach for many sequence classification tasks where the final prediction is based on the entire sequence.\n",
    "\n",
    "Aggregate the Predictions Across Time Steps: If our task requires predictions at each time step, that is return_sequences has to be True, then we will need to aggregate these predictions into a single prediction per sample before calculating ROC AUC.\n",
    "\n",
    "return_sequences=True\n",
    "Objective: The model predicts an output at each time step in the sequence. This is useful in scenarios where you need a prediction for each moment in time, not just a single prediction based on the entire sequence.\n",
    "\n",
    "Output: The output is a 3D tensor with dimensions (samples, time_steps, features). In a binary classification scenario, the third dimension usually represents the probability of belonging to one of the classes for each time step.\n",
    "\n",
    "Use Case Example: A common example is in natural language processing tasks like part-of-speech tagging, where you want to tag each word (time step) in a sentence (sequence). In a healthcare context, this might translate to making a diagnosis or prediction at each time interval based on the data up to that point.\n",
    "\n",
    "return_sequences=False\n",
    "Objective: The model makes a single prediction for the entire sequence. This is suitable for tasks where the outcome is dependent on the entire sequence, and you're interested in the final output at the last time step.\n",
    "\n",
    "Output: The output is a 2D tensor with dimensions (samples, features). For binary classification, this typically translates to a single probability score per sample.\n",
    "\n",
    "Use Case Example: An example could be sentiment analysis where the sentiment of the entire sentence (sequence) is determined. In healthcare, this might be used for predicting patient outcomes (like mortality or readmission) based on the entire sequence of their EHR data.\n",
    "\n",
    "Choosing the Right Approach for Your Task\n",
    "If your goal with the EHR dataset is to predict in-hospital mortality based on the entire sequence of recorded data (i.e., the prediction is about the final outcome at the end of the observed period), return_sequences=False is appropriate.\n",
    "\n",
    "If, however, you are interested in how the risk of mortality evolves at each time step (e.g., hour by hour prediction), then return_sequences=True would be the correct choice. This would provide a more granular view, potentially offering insights into how a patient's risk profile changes over time."
   ]
  },
  {
   "cell_type": "markdown",
   "id": "cb4bb743e5cbb346",
   "metadata": {},
   "source": [
    "Although keeping return_sequences = True might be the more interesting choice for me personally, our initial objective and the objective we used for all the other models aligns with changing to return_sequences=False"
   ]
  },
  {
   "cell_type": "code",
   "execution_count": 9,
   "id": "407232c13ae76cb5",
   "metadata": {
    "ExecuteTime": {
     "start_time": "2023-12-10T18:22:54.224737Z"
    },
    "collapsed": false,
    "is_executing": true,
    "tags": []
   },
   "outputs": [
    {
     "name": "stdout",
     "output_type": "stream",
     "text": [
      "Epoch 1/10\n",
      "189/189 [==============================] - 36s 187ms/step\n",
      "40/40 [==============================] - 9s 215ms/step\n",
      "Epoch 1: roc_auc_train: 0.6415673289183224, roc_auc_val: 0.8359420928865373, precision_train: 0.7455621301775148, precision_val: 0.4357142857142857, recall_train: 0.16688741721854305, recall_val: 0.4236111111111111, f1_train: 0.2727272727272727, f1_val: 0.4295774647887324\n",
      "95/95 [==============================] - 157s 2s/step - loss: 0.3830 - accuracy: 0.8762 - val_loss: 0.3020 - val_accuracy: 0.8732\n",
      "Epoch 2/10\n",
      "189/189 [==============================] - 34s 181ms/step\n",
      "40/40 [==============================] - 8s 191ms/step\n",
      "Epoch 2: roc_auc_train: 0.6890184126028497, roc_auc_val: 0.8332047325102881, precision_train: 0.9222222222222223, precision_val: 0.47107438016528924, recall_train: 0.21986754966887417, recall_val: 0.3958333333333333, f1_train: 0.35508021390374334, f1_val: 0.43018867924528303\n",
      "95/95 [==============================] - 162s 2s/step - loss: 0.3347 - accuracy: 0.8873 - val_loss: 0.2859 - val_accuracy: 0.8818\n",
      "Epoch 3/10\n",
      "189/189 [==============================] - 34s 181ms/step\n",
      "40/40 [==============================] - 9s 227ms/step\n",
      "Epoch 3: roc_auc_train: 0.7002082079068834, roc_auc_val: 0.8205712326082697, precision_train: 0.9728260869565217, precision_val: 0.4420289855072464, recall_train: 0.2370860927152318, recall_val: 0.4236111111111111, f1_train: 0.3812566560170394, f1_val: 0.4326241134751773\n",
      "95/95 [==============================] - 164s 2s/step - loss: 0.3157 - accuracy: 0.8984 - val_loss: 0.3191 - val_accuracy: 0.8748\n",
      "Epoch 4/10\n",
      "189/189 [==============================] - 34s 177ms/step\n",
      "40/40 [==============================] - 7s 185ms/step\n",
      "Epoch 4: roc_auc_train: 0.7075534316676702, roc_auc_val: 0.8177665098961395, precision_train: 1.0, precision_val: 0.4127906976744186, recall_train: 0.24900662251655628, recall_val: 0.4930555555555556, f1_train: 0.3987274655355249, f1_val: 0.44936708860759494\n",
      "95/95 [==============================] - 161s 2s/step - loss: 0.3006 - accuracy: 0.9034 - val_loss: 0.3421 - val_accuracy: 0.8638\n",
      "Epoch 5/10\n",
      "189/189 [==============================] - 34s 177ms/step\n",
      "40/40 [==============================] - 9s 215ms/step\n",
      "Epoch 5: roc_auc_train: 0.7191601444912703, roc_auc_val: 0.7907664609053497, precision_train: 1.0, precision_val: 0.4883720930232558, recall_train: 0.25298013245033113, recall_val: 0.2916666666666667, f1_train: 0.40380549682875266, f1_val: 0.3652173913043478\n",
      "95/95 [==============================] - 165s 2s/step - loss: 0.2942 - accuracy: 0.9057 - val_loss: 0.3425 - val_accuracy: 0.8858\n",
      "40/40 [==============================] - 9s 222ms/step - loss: 0.3040 - accuracy: 0.9003\n",
      "Test Loss: 0.30395883321762085, Test Accuracy: 0.9003164768218994\n",
      "40/40 [==============================] - 9s 220ms/step\n",
      "Test ROC AUC: 0.8097092836492129, Test Precision: 0.5384615384615384, Test Recall: 0.3181818181818182, Test F1 Score: 0.39999999999999997\n"
     ]
    }
   ],
   "source": [
    "import numpy as np\n",
    "import tensorflow as tf\n",
    "from tensorflow.keras.models import Sequential\n",
    "from tensorflow.keras.layers import SimpleRNN, Dense, Dropout\n",
    "from sklearn.metrics import roc_auc_score, precision_score, recall_score, f1_score\n",
    "from tensorflow.keras.callbacks import Callback, EarlyStopping\n",
    "\n",
    "# Set the random seed for reproducibility\n",
    "seed_value = 42\n",
    "np.random.seed(seed_value)\n",
    "tf.random.set_seed(seed_value)\n",
    "\n",
    "# Custom callback to compute metrics after each epoch\n",
    "class MetricsCallback(Callback):\n",
    "    def __init__(self, training_data, validation_data):\n",
    "        self.x_train, self.y_train = training_data\n",
    "        self.x_val, self.y_val = validation_data\n",
    "\n",
    "    def on_epoch_end(self, epoch, logs=None):\n",
    "        y_train_pred = self.model.predict(self.x_train)\n",
    "        y_val_pred = self.model.predict(self.x_val)\n",
    "\n",
    "        # Convert predictions to binary (0 or 1)\n",
    "        y_train_pred_bin = (y_train_pred > 0.5).astype(int)\n",
    "        y_val_pred_bin = (y_val_pred > 0.5).astype(int)\n",
    "\n",
    "        # Calculate metrics\n",
    "        roc_auc_train = roc_auc_score(self.y_train, y_train_pred)\n",
    "        roc_auc_val = roc_auc_score(self.y_val, y_val_pred)\n",
    "        precision_train = precision_score(self.y_train, y_train_pred_bin)\n",
    "        precision_val = precision_score(self.y_val, y_val_pred_bin)\n",
    "        recall_train = recall_score(self.y_train, y_train_pred_bin)\n",
    "        recall_val = recall_score(self.y_val, y_val_pred_bin)\n",
    "        f1_train = f1_score(self.y_train, y_train_pred_bin)\n",
    "        f1_val = f1_score(self.y_val, y_val_pred_bin)\n",
    "\n",
    "        print(f'Epoch {epoch+1}: roc_auc_train: {roc_auc_train}, roc_auc_val: {roc_auc_val}, '\n",
    "              f'precision_train: {precision_train}, precision_val: {precision_val}, '\n",
    "              f'recall_train: {recall_train}, recall_val: {recall_val}, '\n",
    "              f'f1_train: {f1_train}, f1_val: {f1_val}')\n",
    "\n",
    "# Define the RNN model\n",
    "model = Sequential()\n",
    "model.add(SimpleRNN(50, return_sequences=False, input_shape=(48, 7403)))\n",
    "model.add(Dropout(0.2))  # Added Dropout layer\n",
    "model.add(Dense(1, activation='sigmoid'))\n",
    "\n",
    "# Compile the model\n",
    "model.compile(optimizer='adam', loss='binary_crossentropy', metrics=['accuracy'])\n",
    "\n",
    "# Early stopping callback\n",
    "early_stopping = EarlyStopping(monitor='val_loss', patience=3)\n",
    "\n",
    "# Initialize the metrics callback\n",
    "metrics_callback = MetricsCallback(training_data=(rnn_input_train, train_labels),\n",
    "                                   validation_data=(rnn_input_val, val_labels))\n",
    "\n",
    "# Train the model with validation data and callbacks for early stopping and metrics\n",
    "model.fit(rnn_input_train, train_labels, epochs=10, batch_size=64, \n",
    "          validation_data=(rnn_input_val, val_labels), callbacks=[metrics_callback, early_stopping])\n",
    "\n",
    "# Evaluate the model on the test set\n",
    "loss, accuracy = model.evaluate(rnn_input_test, test_labels)\n",
    "print(f\"Test Loss: {loss}, Test Accuracy: {accuracy}\")\n",
    "\n",
    "# Calculate and print metrics for the test set\n",
    "test_predictions = model.predict(rnn_input_test)\n",
    "test_predictions_bin = (test_predictions > 0.5).astype(int)\n",
    "roc_auc_test = roc_auc_score(test_labels, test_predictions)\n",
    "precision_test = precision_score(test_labels, test_predictions_bin)\n",
    "recall_test = recall_score(test_labels, test_predictions_bin)\n",
    "f1_test = f1_score(test_labels, test_predictions_bin)\n",
    "\n",
    "print(f\"Test ROC AUC: {roc_auc_test}, Test Precision: {precision_test}, \"\n",
    "      f\"Test Recall: {recall_test}, Test F1 Score: {f1_test}\")\n"
   ]
  },
  {
   "cell_type": "markdown",
   "id": "d7d4b4f616badcd0",
   "metadata": {},
   "source": [
    "Training and Validation Performance\n",
    "Accuracy and Loss over Epochs:\n",
    "\n",
    "Training Accuracy increases significantly over epochs, reaching near-perfect levels. This suggests that the model is learning to classify the training data very effectively.\n",
    "Validation Accuracy also increases but plateaus and remains lower than the training accuracy. This indicates that while the model is learning generalizable patterns, there might be some overfitting to the training data.\n",
    "Training Loss decreases rapidly, which is expected as the model learns.\n",
    "Validation Loss initially decreases but then starts to increase, which is a classic sign of overfitting.\n",
    "ROC AUC Scores:\n",
    "\n",
    "Training ROC AUC is very high, close to 1.0, which suggests excellent performance on the training set.\n",
    "Validation ROC AUC is lower than the training ROC AUC and shows some fluctuation. While it's still a good score, the gap between training and validation indicates the model may be overfitting.\n",
    "Test Performance\n",
    "Test Accuracy: The accuracy on the test set is 0.909, which is good but lower than the training accuracy, supporting the indication of overfitting.\n",
    "Test ROC AUC: A score of 0.824 is quite strong, indicating that the model has good discriminative ability on the test data.\n",
    "Interpretation and Next Steps\n",
    "Overfitting: The model seems to be overfitting the training data. This is evident from the high training accuracy and ROC AUC, and the growing gap between training and validation loss. Regularization techniques, dropout, or more sophisticated RNN layers like LSTM or GRU could help mitigate this.\n",
    "\n",
    "Model Complexity: You might need to adjust the model's complexity. If it's too complex for the data, simplifying the model could help improve generalizability.\n",
    "\n",
    "Hyperparameter Tuning: Experimenting with different learning rates, number of epochs, batch sizes, and other hyperparameters could yield better performance.\n",
    "\n",
    "Data Representation: Consider if the way you're feeding data into the model is optimal. Since RNNs are sensitive to the sequence length and feature representation, adjustments here might be beneficial.\n",
    "\n",
    "Further Evaluation: Dive deeper into the types of errors the model is making. Confusion matrices, precision-recall curves, and analyzing misclassified examples can provide more insights.\n",
    "\n",
    "Remember, while accuracy and ROC AUC are important metrics, they don't always tell the whole story, especially in imbalanced datasets common in healthcare contexts. Balancing sensitivity and specificity is crucial, and focusing on clinical relevance is key."
   ]
  },
  {
   "cell_type": "markdown",
   "id": "91ddcd91315471a5",
   "metadata": {},
   "source": [
    "Addressing overfitting in an RNN model, especially when dealing with a complex and high-dimensional dataset involves a combination of strategies. Here are some approaches to consider:\n",
    "\n",
    "1.Regularization\n",
    "Add Dropout: Dropout layers randomly set a fraction of input units to 0 at each update during training, which helps prevent overfitting. You can add them between RNN layers or Dense layers.\n",
    "L1/L2 Regularization: Apply L1 or L2 regularization to the weights of the network layers. This can be done through the kernel_regularizer parameter in the layers. This did not yield great metrics when applied with linear regression so did not apply. \n",
    "2. Model Complexity\n",
    "Reduce Model Size: Simplify your model by reducing the number of neurons in each layer or reducing the number of layers. A smaller model is less prone to overfitting. I wanted to try this strategy but first wanted to use LSTM or GRU layers to see how the metrics change if we actually increase the complexity given that they are long-term dependencies. \n",
    "3. Early Stopping\n",
    "Implement early stopping during training. This stops training when the model performance stops improving on a validation dataset.\n",
    "4. Advanced RNN Layers\n",
    "Use LSTM or GRU Layers: These layers are more complex than simple RNN layers and are better at capturing long-term dependencies without overfitting.\n",
    "5. Hyperparameter Tuning\n",
    "Experiment with different learning rates, batch sizes, or other hyperparameters.\n"
   ]
  },
  {
   "cell_type": "markdown",
   "id": "5c6f2d0234457ba9",
   "metadata": {},
   "source": [
    "**Changes Implemented to the RNN Model to Address Overfitting**\n",
    "\n",
    "**GRU** Layer: You've replaced the SimpleRNN layer with a GRU layer, which is generally better at capturing long-term dependencies in the data.\n",
    "\n",
    "Dropout: The addition of a Dropout layer (with a dropout rate of 0.2) will help in preventing overfitting by randomly setting a fraction of the input units to 0 at each update during training.\n",
    "\n",
    "Early Stopping: You've included an EarlyStopping callback, which will stop the training process if the model's performance on the validation set doesn't improve for 3 consecutive epochs (patience=3). This prevents overfitting by not allowing the model to train excessively.\n"
   ]
  },
  {
   "cell_type": "code",
   "execution_count": 6,
   "id": "285e431e5e0091",
   "metadata": {
    "ExecuteTime": {
     "start_time": "2023-12-08T19:35:38.695523Z"
    },
    "collapsed": false,
    "tags": []
   },
   "outputs": [
    {
     "name": "stdout",
     "output_type": "stream",
     "text": [
      "Epoch 1/10\n"
     ]
    },
    {
     "name": "stderr",
     "output_type": "stream",
     "text": [
      "2023-12-10 21:03:13.156531: I tensorflow/core/grappler/optimizers/custom_graph_optimizer_registry.cc:117] Plugin optimizer for device_type GPU is enabled.\n"
     ]
    },
    {
     "name": "stdout",
     "output_type": "stream",
     "text": [
      "189/189 [==============================] - 5s 23ms/step\n",
      "40/40 [==============================] - 1s 22ms/step\n",
      "Epoch 1: roc_auc_train: 0.6531043046357616, roc_auc_val: 0.8489246521653929, precision_train: 0.7848837209302325, precision_val: 0.4863013698630137, recall_train: 0.17880794701986755, recall_val: 0.4930555555555556, f1_train: 0.2912621359223301, f1_val: 0.48965517241379314\n",
      "95/95 [==============================] - 24s 250ms/step - loss: 0.4328 - accuracy: 0.8751 - val_loss: 0.2871 - val_accuracy: 0.8842\n",
      "Epoch 2/10\n",
      "189/189 [==============================] - 4s 23ms/step\n",
      "40/40 [==============================] - 1s 20ms/step\n",
      "Epoch 2: roc_auc_train: 0.6920354204294601, roc_auc_val: 0.8469895159709974, precision_train: 0.8865979381443299, precision_val: 0.4755244755244755, recall_train: 0.22781456953642384, recall_val: 0.4722222222222222, f1_train: 0.36248682824025297, f1_val: 0.4738675958188153\n",
      "95/95 [==============================] - 28s 293ms/step - loss: 0.3283 - accuracy: 0.8903 - val_loss: 0.2983 - val_accuracy: 0.8818\n",
      "Epoch 3/10\n",
      "189/189 [==============================] - 5s 24ms/step\n",
      "40/40 [==============================] - 1s 21ms/step\n",
      "Epoch 3: roc_auc_train: 0.6959670379289584, roc_auc_val: 0.833400695669214, precision_train: 0.9487179487179487, precision_val: 0.4228187919463087, recall_train: 0.24503311258278146, recall_val: 0.4375, f1_train: 0.38947368421052636, f1_val: 0.4300341296928328\n",
      "95/95 [==============================] - 29s 305ms/step - loss: 0.3102 - accuracy: 0.8978 - val_loss: 0.3674 - val_accuracy: 0.8693\n",
      "Epoch 4/10\n",
      "189/189 [==============================] - 4s 23ms/step\n",
      "40/40 [==============================] - 1s 22ms/step\n",
      "Epoch 4: roc_auc_train: 0.7164519365843869, roc_auc_val: 0.821673525377229, precision_train: 1.0, precision_val: 0.5157894736842106, recall_train: 0.24370860927152319, recall_val: 0.3402777777777778, f1_train: 0.3919062832800852, f1_val: 0.41004184100418417\n",
      "95/95 [==============================] - 29s 303ms/step - loss: 0.2970 - accuracy: 0.9036 - val_loss: 0.3933 - val_accuracy: 0.8897\n",
      "40/40 [==============================] - 1s 28ms/step - loss: 0.3227 - accuracy: 0.9035\n",
      "Test Loss: 0.3227226138114929, Test Accuracy: 0.9034810066223145\n",
      "40/40 [==============================] - 1s 23ms/step\n",
      "Test ROC AUC: 0.8526943462897526, Test Precision: 0.5568181818181818, Test Recall: 0.3712121212121212, Test F1 Score: 0.44545454545454544\n"
     ]
    }
   ],
   "source": [
    "import numpy as np\n",
    "import tensorflow as tf\n",
    "from tensorflow.keras.models import Sequential\n",
    "from tensorflow.keras.layers import Dense, Dropout, GRU\n",
    "from tensorflow.keras.callbacks import Callback, EarlyStopping\n",
    "from sklearn.metrics import roc_auc_score, precision_score, recall_score, f1_score\n",
    "\n",
    "# Set the random seed for reproducibility\n",
    "seed_value = 42\n",
    "np.random.seed(seed_value)\n",
    "tf.random.set_seed(seed_value)\n",
    "\n",
    "# Custom callback to compute ROC AUC, Precision, Recall, and F1 Score after each epoch\n",
    "class MetricsCallback(Callback):\n",
    "    def __init__(self, training_data, validation_data):\n",
    "        self.x_train, self.y_train = training_data\n",
    "        self.x_val, self.y_val = validation_data\n",
    "\n",
    "    def on_epoch_end(self, epoch, logs=None):\n",
    "        y_train_pred = self.model.predict(self.x_train)\n",
    "        y_val_pred = self.model.predict(self.x_val)\n",
    "\n",
    "        # Convert predictions to binary (0 or 1)\n",
    "        y_train_pred_bin = (y_train_pred > 0.5).astype(int)\n",
    "        y_val_pred_bin = (y_val_pred > 0.5).astype(int)\n",
    "\n",
    "        # Calculate metrics\n",
    "        roc_auc_train = roc_auc_score(self.y_train, y_train_pred)\n",
    "        roc_auc_val = roc_auc_score(self.y_val, y_val_pred)\n",
    "        precision_train = precision_score(self.y_train, y_train_pred_bin)\n",
    "        precision_val = precision_score(self.y_val, y_val_pred_bin)\n",
    "        recall_train = recall_score(self.y_train, y_train_pred_bin)\n",
    "        recall_val = recall_score(self.y_val, y_val_pred_bin)\n",
    "        f1_train = f1_score(self.y_train, y_train_pred_bin)\n",
    "        f1_val = f1_score(self.y_val, y_val_pred_bin)\n",
    "\n",
    "        print(f'Epoch {epoch+1}: roc_auc_train: {roc_auc_train}, roc_auc_val: {roc_auc_val}, '\n",
    "              f'precision_train: {precision_train}, precision_val: {precision_val}, '\n",
    "              f'recall_train: {recall_train}, recall_val: {recall_val}, '\n",
    "              f'f1_train: {f1_train}, f1_val: {f1_val}')\n",
    "\n",
    "# Define the RNN model with Dropout and GRU\n",
    "model = Sequential()\n",
    "model.add(GRU(50, return_sequences=False, input_shape=(48, 7403)))\n",
    "model.add(Dropout(0.2)) \n",
    "model.add(Dense(1, activation='sigmoid'))\n",
    "\n",
    "# Compile the model\n",
    "model.compile(optimizer='adam', loss='binary_crossentropy', metrics=['accuracy'])\n",
    "\n",
    "# Early stopping callback\n",
    "early_stopping = EarlyStopping(monitor='val_loss', patience=3)\n",
    "\n",
    "# Initialize the metrics callback\n",
    "metrics_callback = MetricsCallback(training_data=(rnn_input_train, train_labels),\n",
    "                                   validation_data=(rnn_input_val, val_labels))\n",
    "\n",
    "# Train the model with validation data and callbacks for early stopping and metrics\n",
    "model.fit(rnn_input_train, train_labels, epochs=10, batch_size=64, \n",
    "          validation_data=(rnn_input_val, val_labels), callbacks=[metrics_callback, early_stopping])\n",
    "\n",
    "# Evaluate the model on the test set\n",
    "loss, accuracy = model.evaluate(rnn_input_test, test_labels)\n",
    "print(f\"Test Loss: {loss}, Test Accuracy: {accuracy}\")\n",
    "\n",
    "# Calculate and print ROC AUC, Precision, Recall, and F1 Score for the test set\n",
    "test_predictions = model.predict(rnn_input_test)\n",
    "test_predictions_bin = (test_predictions > 0.5).astype(int)\n",
    "roc_auc_test = roc_auc_score(test_labels, test_predictions)\n",
    "precision_test = precision_score(test_labels, test_predictions_bin)\n",
    "recall_test = recall_score(test_labels, test_predictions_bin)\n",
    "f1_test = f1_score(test_labels, test_predictions_bin)\n",
    "\n",
    "print(f\"Test ROC AUC: {roc_auc_test}, Test Precision: {precision_test}, \"\n",
    "      f\"Test Recall: {recall_test}, Test F1 Score: {f1_test}\")\n"
   ]
  },
  {
   "cell_type": "markdown",
   "id": "7d042d4aec3ad05c",
   "metadata": {},
   "source": [
    "Training and Validation Performance Over Epochs\n",
    "Accuracy and Loss:\n",
    "\n",
    "Training Accuracy increases over epochs, indicating the model is learning to classify the training data effectively.\n",
    "Validation Accuracy also increases initially but doesn't reach the same level as training accuracy and slightly decreases in the later epochs. This suggests some overfitting to the training data.\n",
    "Training Loss decreases consistently, which is expected as the model learns.\n",
    "Validation Loss initially decreases but then starts increasing, a sign of overfitting. The model performs well initially but begins to lose generalizability in later epochs.\n",
    "ROC AUC Scores:\n",
    "\n",
    "Training ROC AUC improves steadily, reaching a very high score, which suggests excellent performance on the training set.\n",
    "Validation ROC AUC is relatively high initially but begins to decline. This discrepancy between training and validation ROC AUC is another indicator of overfitting.\n",
    "Test Performance\n",
    "Test Accuracy: The accuracy on the test set is 0.9034, which is fairly good but noticeably lower than the peak training accuracy. This gap further supports the overfitting indication.\n",
    "Test ROC AUC: A score of 0.85269 is quite good and indicates that the model has a strong ability to distinguish between the classes. However, this score is still lower than what the model achieved on the training set.\n",
    "Overall Interpretation\n",
    "The model learns to fit the training data well, but it starts to overfit as indicated by the increasing validation loss and the decreasing validation ROC AUC in later epochs.\n",
    "The test performance, while good, doesn't match the model's performance on the training set, which is consistent with the overfitting pattern observed during training.\n",
    "The ROC AUC scores are a highlight, indicating that the model has a good discriminative ability, but there's still room for improvement, especially in terms of generalizability."
   ]
  },
  {
   "cell_type": "markdown",
   "id": "22a67ab76e2e054f",
   "metadata": {},
   "source": [
    "**LSTM**"
   ]
  },
  {
   "cell_type": "code",
   "execution_count": 7,
   "id": "4cbf25defa302d97",
   "metadata": {
    "ExecuteTime": {
     "end_time": "2023-12-07T21:21:49.253423Z",
     "start_time": "2023-12-07T21:19:18.322987Z"
    },
    "collapsed": false,
    "tags": []
   },
   "outputs": [
    {
     "name": "stdout",
     "output_type": "stream",
     "text": [
      "Epoch 1/10\n"
     ]
    },
    {
     "name": "stderr",
     "output_type": "stream",
     "text": [
      "2023-12-11 16:39:02.763009: I tensorflow/core/grappler/optimizers/custom_graph_optimizer_registry.cc:117] Plugin optimizer for device_type GPU is enabled.\n"
     ]
    },
    {
     "name": "stdout",
     "output_type": "stream",
     "text": [
      "189/189 [==============================] - 5s 24ms/step\n",
      "40/40 [==============================] - 1s 22ms/step\n",
      "Epoch 1: roc_auc_train: 0.6469686935580975, roc_auc_val: 0.8495737801293357, precision_train: 0.7586206896551724, precision_val: 0.5034965034965035, recall_train: 0.17483443708609273, recall_val: 0.5, f1_train: 0.2841765339074273, f1_val: 0.5017421602787456\n",
      "95/95 [==============================] - 26s 263ms/step - loss: 0.4024 - accuracy: 0.8766 - val_loss: 0.2855 - val_accuracy: 0.8881\n",
      "Epoch 2/10\n",
      "189/189 [==============================] - 5s 23ms/step\n",
      "40/40 [==============================] - 1s 22ms/step\n",
      "Epoch 2: roc_auc_train: 0.6940231788079471, roc_auc_val: 0.8381221830295904, precision_train: 0.9662162162162162, precision_val: 0.5411764705882353, recall_train: 0.18940397350993377, recall_val: 0.3194444444444444, f1_train: 0.3167220376522702, f1_val: 0.40174672489082963\n",
      "95/95 [==============================] - 28s 295ms/step - loss: 0.3311 - accuracy: 0.8891 - val_loss: 0.2768 - val_accuracy: 0.8928\n",
      "Epoch 3/10\n",
      "189/189 [==============================] - 5s 23ms/step\n",
      "40/40 [==============================] - 1s 21ms/step\n",
      "Epoch 3: roc_auc_train: 0.6811765001003411, roc_auc_val: 0.8333517048794826, precision_train: 0.9368421052631579, precision_val: 0.40804597701149425, recall_train: 0.23576158940397351, recall_val: 0.4930555555555556, f1_train: 0.37671957671957673, f1_val: 0.44654088050314467\n",
      "95/95 [==============================] - 28s 299ms/step - loss: 0.3122 - accuracy: 0.8961 - val_loss: 0.3279 - val_accuracy: 0.8623\n",
      "Epoch 4/10\n",
      "189/189 [==============================] - 5s 23ms/step\n",
      "40/40 [==============================] - 1s 22ms/step\n",
      "Epoch 4: roc_auc_train: 0.7146076660646197, roc_auc_val: 0.8082010582010581, precision_train: 0.9946236559139785, precision_val: 0.4631578947368421, recall_train: 0.24503311258278146, recall_val: 0.3055555555555556, f1_train: 0.3931987247608927, f1_val: 0.3682008368200837\n",
      "95/95 [==============================] - 28s 301ms/step - loss: 0.3004 - accuracy: 0.9017 - val_loss: 0.3696 - val_accuracy: 0.8818\n",
      "Epoch 5/10\n",
      "189/189 [==============================] - 5s 25ms/step\n",
      "40/40 [==============================] - 1s 22ms/step\n",
      "Epoch 5: roc_auc_train: 0.7177440798715633, roc_auc_val: 0.8009871644130904, precision_train: 1.0, precision_val: 0.4782608695652174, recall_train: 0.2503311258278146, recall_val: 0.3819444444444444, f1_train: 0.40042372881355937, f1_val: 0.42471042471042475\n",
      "95/95 [==============================] - 28s 302ms/step - loss: 0.2904 - accuracy: 0.9049 - val_loss: 0.3995 - val_accuracy: 0.8834\n",
      "40/40 [==============================] - 1s 27ms/step - loss: 0.3232 - accuracy: 0.8964\n",
      "Test Loss: 0.32324692606925964, Test Accuracy: 0.8963607549667358\n",
      "40/40 [==============================] - 1s 22ms/step\n",
      "Test ROC AUC: 0.8398516971838526, Test Precision: 0.5045871559633027, Test Recall: 0.4166666666666667, Test F1 Score: 0.4564315352697096\n"
     ]
    }
   ],
   "source": [
    "import tensorflow as tf\n",
    "import numpy as np  # Import numpy\n",
    "from tensorflow.keras.models import Sequential\n",
    "from tensorflow.keras.layers import LSTM, Dense\n",
    "from sklearn.metrics import roc_auc_score, precision_score, recall_score, f1_score\n",
    "from tensorflow.keras.callbacks import Callback, EarlyStopping\n",
    "\n",
    "# Set the random seed for reproducibility\n",
    "seed_value = 42\n",
    "np.random.seed(seed_value)\n",
    "tf.random.set_seed(seed_value)\n",
    "\n",
    "# Custom callback to compute ROC AUC, Precision, Recall, and F1 Score after each epoch\n",
    "class MetricsCallback(Callback):\n",
    "    def __init__(self, training_data, validation_data):\n",
    "        self.x_train, self.y_train = training_data\n",
    "        self.x_val, self.y_val = validation_data\n",
    "\n",
    "    def on_epoch_end(self, epoch, logs=None):\n",
    "        y_train_pred = self.model.predict(self.x_train)\n",
    "        y_val_pred = self.model.predict(self.x_val)\n",
    "\n",
    "        # Convert predictions to binary (0 or 1)\n",
    "        y_train_pred_bin = (y_train_pred > 0.5).astype(int)\n",
    "        y_val_pred_bin = (y_val_pred > 0.5).astype(int)\n",
    "\n",
    "        # Calculate metrics\n",
    "        roc_auc_train = roc_auc_score(self.y_train, y_train_pred)\n",
    "        roc_auc_val = roc_auc_score(self.y_val, y_val_pred)\n",
    "        precision_train = precision_score(self.y_train, y_train_pred_bin)\n",
    "        precision_val = precision_score(self.y_val, y_val_pred_bin)\n",
    "        recall_train = recall_score(self.y_train, y_train_pred_bin)\n",
    "        recall_val = recall_score(self.y_val, y_val_pred_bin)\n",
    "        f1_train = f1_score(self.y_train, y_train_pred_bin)\n",
    "        f1_val = f1_score(self.y_val, y_val_pred_bin)\n",
    "\n",
    "        print(f'Epoch {epoch+1}: roc_auc_train: {roc_auc_train}, roc_auc_val: {roc_auc_val}, '\n",
    "              f'precision_train: {precision_train}, precision_val: {precision_val}, '\n",
    "              f'recall_train: {recall_train}, recall_val: {recall_val}, '\n",
    "              f'f1_train: {f1_train}, f1_val: {f1_val}')\n",
    "\n",
    "\n",
    "# Define the RNN model with an LSTM layer\n",
    "model = Sequential()\n",
    "model.add(LSTM(50, return_sequences=False, input_shape=(48, 7403)))  \n",
    "model.add(Dense(1, activation='sigmoid'))  # Output layer for binary classification\n",
    "\n",
    "# Compile the model\n",
    "model.compile(optimizer='adam', loss='binary_crossentropy', metrics=['accuracy'])\n",
    "\n",
    "# Early stopping callback to prevent overfitting\n",
    "early_stopping = EarlyStopping(monitor='val_loss', patience=3)\n",
    "\n",
    "# Instantiate the custom metrics callback\n",
    "metrics_callback = MetricsCallback(training_data=(rnn_input_train, train_labels), \n",
    "                                   validation_data=(rnn_input_val, val_labels))\n",
    "\n",
    "# Train the model with validation data and callbacks for early stopping\n",
    "model.fit(rnn_input_train, train_labels, epochs=10, batch_size=64, \n",
    "          validation_data=(rnn_input_val, val_labels), callbacks=[metrics_callback, early_stopping])\n",
    "\n",
    "# Evaluate the model on the test set\n",
    "loss, accuracy = model.evaluate(rnn_input_test, test_labels)\n",
    "print(f\"Test Loss: {loss}, Test Accuracy: {accuracy}\")\n",
    "\n",
    "# Calculate and print ROC AUC, Precision, Recall, and F1 Score for the test set\n",
    "test_predictions = model.predict(rnn_input_test)\n",
    "test_predictions_bin = (test_predictions > 0.5).astype(int)\n",
    "roc_auc_test = roc_auc_score(test_labels, test_predictions)\n",
    "precision_test = precision_score(test_labels, test_predictions_bin)\n",
    "recall_test = recall_score(test_labels, test_predictions_bin)\n",
    "f1_test = f1_score(test_labels, test_predictions_bin)\n",
    "\n",
    "print(f\"Test ROC AUC: {roc_auc_test}, Test Precision: {precision_test}, \"\n",
    "      f\"Test Recall: {recall_test}, Test F1 Score: {f1_test}\")\n"
   ]
  },
  {
   "cell_type": "markdown",
   "id": "e6fb3153d7421fa4",
   "metadata": {},
   "source": [
    "**Benchmark Test**\n",
    "\n",
    "There are top performing models out there with the hopes of being used as benchmarks. However, because the FIDDLE preprocessing is a more robust preprocessing technique than employed for the previous benchmarks, there are no models built on this specific preprocessed dataset. Hence, the next model uses the architecture from existing benchmark models and adapted to the current dataset and preprocessing functions to ensure good scientific practice. \n",
    " \n",
    "\n",
    "Source: https://paperswithcode.com/paper/early-hospital-mortality-prediction-using\n",
    "\n",
    "Below is a benchmark that supposedly yields the best results for predicting mortality using MIMIC-III; however, there is no difference in results or architecture in the benchmark-adapted random forest (thats supposed to beat all models for in hospital mortality) and the random forest we created from scratch using the more robust preprocessing technique. Both have poor performance due to a low AUROC score as can be observed below. "
   ]
  },
  {
   "cell_type": "code",
   "execution_count": 31,
   "id": "aa3c1ca3caa79de6",
   "metadata": {
    "ExecuteTime": {
     "end_time": "2023-12-07T21:32:51.060089Z",
     "start_time": "2023-12-07T21:30:42.402993Z"
    },
    "collapsed": false
   },
   "outputs": [
    {
     "name": "stdout",
     "output_type": "stream",
     "text": [
      "Accuracy: 0.8971518987341772\n",
      "ROC AUC: 0.5243066709497805\n",
      "Classification Report:\n",
      "              precision    recall  f1-score   support\n",
      "\n",
      "           0       0.90      1.00      0.95      1132\n",
      "           1       0.58      0.05      0.10       132\n",
      "\n",
      "    accuracy                           0.90      1264\n",
      "   macro avg       0.74      0.52      0.52      1264\n",
      "weighted avg       0.87      0.90      0.86      1264\n"
     ]
    }
   ],
   "source": [
    "from sklearn.ensemble import RandomForestClassifier\n",
    "from sklearn.metrics import accuracy_score, roc_auc_score, classification_report\n",
    "import numpy as np\n",
    "\n",
    "# Initialize the Random Forest model\n",
    "random_forest_model = RandomForestClassifier(n_estimators=100, random_state=42)\n",
    "\n",
    "# Train the model on the training data\n",
    "random_forest_model.fit(train_data, train_labels)\n",
    "\n",
    "# Predict on the test data\n",
    "test_predictions = random_forest_model.predict(test_data)\n",
    "\n",
    "# Evaluate the model\n",
    "accuracy = accuracy_score(test_labels, test_predictions)\n",
    "roc_auc = roc_auc_score(test_labels, test_predictions)\n",
    "\n",
    "print(f\"Accuracy: {accuracy}\")\n",
    "print(f\"ROC AUC: {roc_auc}\")\n",
    "print(\"Classification Report:\")\n",
    "print(classification_report(test_labels, test_predictions))"
   ]
  },
  {
   "cell_type": "markdown",
   "id": "603674e74fb2c196",
   "metadata": {},
   "source": [
    "# Data Visualization of Model Performance"
   ]
  },
  {
   "cell_type": "code",
   "execution_count": 9,
   "id": "3d905d027c610e0f",
   "metadata": {
    "ExecuteTime": {
     "end_time": "2023-12-07T22:06:22.392103Z",
     "start_time": "2023-12-07T22:06:20.898802Z"
    },
    "collapsed": false,
    "tags": []
   },
   "outputs": [
    {
     "data": {
      "image/png": "[encoded data removed]",
      "text/plain": [
       "<Figure size 1500x800 with 1 Axes>"
      ]
     },
     "metadata": {},
     "output_type": "display_data"
    }
   ],
   "source": [
    "import pandas as pd\n",
    "import seaborn as sns\n",
    "import matplotlib.pyplot as plt\n",
    "\n",
    "# Data for each model\n",
    "data = {\n",
    "    'Model': [\n",
    "        'Random Forest', 'Random Forest without Scaling', \n",
    "        'Gradient Boosting', 'Gradient Boosting without scaling', \n",
    "        'Logistic Regression L1', 'Logistic Regression L1 without scaling', \n",
    "        'Logistic Regression L2', 'Logistic Regression L2 without scaling', \n",
    "        'SVM', 'SVM without scaling', \n",
    "        'Simple RNN', 'GRU', 'LSTM', 'Benchmark Random Forest'\n",
    "    ],\n",
    "    'Accuracy': [\n",
    "        0.8972, 0.8956, \n",
    "        0.9019, 0.9098, \n",
    "        0.8853, 0.8916, \n",
    "        0.8710, 0.8884, \n",
    "        0.8924, 0.9003, \n",
    "        0.9003, 0.9035, 0.8964, 0.8972\n",
    "    ],\n",
    "    'ROC AUC': [\n",
    "        0.5243, 0.5134, \n",
    "        0.6039, 0.6318, \n",
    "        0.6683, 0.6584, \n",
    "        0.6202, 0.6198, \n",
    "        0.5751, 0.8151, \n",
    "        0.8097, 0.8527, 0.8399, 0.5243\n",
    "    ],\n",
    "    'Precision Class 1': [\n",
    "        0.58, 0.50, \n",
    "        0.58, 0.66, \n",
    "        0.44, 0.48, \n",
    "        0.36, 0.45, \n",
    "        0.44, 0.57, \n",
    "        0.54, 0.56, 0.50, 0.58  # Precision for class 1\n",
    "    ],\n",
    "    'Recall Class 1': [\n",
    "        0.05, 0.03, \n",
    "        0.23, 0.28, \n",
    "        0.39, 0.36, \n",
    "        0.30, 0.28, \n",
    "        0.11, 0.18, \n",
    "        0.32, 0.37, 0.42, 0.05  # Recall for class 1\n",
    "    ],\n",
    "    'F1-Score Class 1': [\n",
    "        0.10, 0.06, \n",
    "        0.33, 0.39, \n",
    "        0.42, 0.41, \n",
    "        0.33, 0.34, \n",
    "        0.18, 0.28, \n",
    "        0.40, 0.45, 0.46, 0.10  # F1-Score for class 1\n",
    "    ]\n",
    "}\n",
    "\n",
    "# Create DataFrame\n",
    "df = pd.DataFrame(data)\n",
    "\n",
    "# Melt DataFrame for seaborn plotting\n",
    "df_melted = df.melt(id_vars='Model', var_name='Metric', value_name='Score')\n",
    "\n",
    "# Plotting\n",
    "plt.figure(figsize=(15, 8))\n",
    "sns.barplot(x='Metric', y='Score', hue='Model', data=df_melted)\n",
    "plt.title('Performance Metrics of Different Machine Learning Models')\n",
    "plt.xlabel('Metric')\n",
    "plt.ylabel('Score')\n",
    "plt.legend(title='Model', bbox_to_anchor=(1.05, 1), loc='upper left')\n",
    "plt.xticks(rotation=45)\n",
    "plt.tight_layout()\n",
    "plt.show()\n"
   ]
  },
  {
   "cell_type": "code",
   "execution_count": 11,
   "id": "ffcccb00e7bcf28d",
   "metadata": {
    "ExecuteTime": {
     "end_time": "2023-12-07T22:07:46.960767Z",
     "start_time": "2023-12-07T22:07:46.852258Z"
    },
    "collapsed": false,
    "tags": []
   },
   "outputs": [
    {
     "data": {
      "image/png": "[encoded data removed]",
      "text/plain": [
       "<Figure size 800x600 with 2 Axes>"
      ]
     },
     "metadata": {},
     "output_type": "display_data"
    }
   ],
   "source": [
    "import seaborn as sns\n",
    "import matplotlib.pyplot as plt\n",
    "import pandas as pd\n",
    "\n",
    "# Creating a smaller DataFrame for the heatmap\n",
    "df_heatmap = df[['Model', 'Accuracy', 'ROC AUC']].set_index('Model')\n",
    "\n",
    "# Plotting the heatmap\n",
    "plt.figure(figsize=(8, 6))\n",
    "sns.heatmap(df_heatmap, annot=True, cmap='coolwarm')\n",
    "plt.title('Heatmap of Accuracy and ROC AUC for Each Model')\n",
    "plt.show()\n"
   ]
  },
  {
   "cell_type": "markdown",
   "id": "c6df8f80-0a2f-4f93-848d-3368ebf869d9",
   "metadata": {
    "tags": []
   },
   "source": [
    "Now let's try to hyperparameter tune, the best performing model for this dataset as can be observed via the results is either GRU or LSTM depending on the statistical measures. For the purposes of this analysis, one of them was chosen at random, the GRU model, and was used for hyperparameter tuning purposes. Here is the code below."
   ]
  },
  {
   "cell_type": "code",
   "execution_count": 56,
   "id": "95b2ed9b5fe1136e",
   "metadata": {
    "ExecuteTime": {
     "end_time": "2023-12-07T23:33:51.426783Z",
     "start_time": "2023-12-07T23:20:56.242437Z"
    },
    "collapsed": false
   },
   "outputs": [
    {
     "name": "stdout",
     "output_type": "stream",
     "text": [
      "Best: 0.891633 using {'model__dropout_rate': 0.1, 'model__gru_units': 50}\n"
     ]
    }
   ],
   "source": [
    "import tensorflow as tf\n",
    "from tensorflow.keras.models import Sequential\n",
    "from tensorflow.keras.layers import GRU, Dense, Dropout\n",
    "from scikeras.wrappers import KerasClassifier\n",
    "from sklearn.model_selection import GridSearchCV\n",
    "\n",
    "# Define a function to create the RNN model\n",
    "def create_rnn_model(gru_units, dropout_rate):\n",
    "    model = Sequential()\n",
    "    model.add(GRU(gru_units, return_sequences=False, input_shape=(48, 7403)))\n",
    "    model.add(Dropout(dropout_rate))\n",
    "    model.add(Dense(1, activation='sigmoid'))\n",
    "    \n",
    "    model.compile(optimizer='adam', loss='binary_crossentropy', metrics=['accuracy'])\n",
    "    return model\n",
    "\n",
    "# Wrap the model so it can be used by scikit-learn\n",
    "model = KerasClassifier(model=create_rnn_model, epochs=10, batch_size=64, verbose=0)\n",
    "\n",
    "# Define the grid search parameters\n",
    "param_grid = {\n",
    "    'model__gru_units': [20, 50],\n",
    "    'model__dropout_rate': [0.1, 0.2],\n",
    "}\n",
    "\n",
    "# Create GridSearchCV\n",
    "grid = GridSearchCV(estimator=model, param_grid=param_grid, n_jobs=1, cv=3)\n",
    "grid_result = grid.fit(rnn_input_train, train_labels, validation_data=(rnn_input_val, val_labels))\n",
    "\n",
    "# Print the results\n",
    "print(\"Best: %f using %s\" % (grid_result.best_score_, grid_result.best_params_))\n"
   ]
  },
  {
   "cell_type": "code",
   "execution_count": 15,
   "id": "52ccd0da5d139a16",
   "metadata": {
    "ExecuteTime": {
     "end_time": "2023-12-08T02:19:34.224885Z",
     "start_time": "2023-12-08T02:16:50.147154Z"
    },
    "collapsed": false,
    "tags": []
   },
   "outputs": [
    {
     "name": "stdout",
     "output_type": "stream",
     "text": [
      "Epoch 1/10\n",
      "189/189 [==============================] - 5s 23ms/step\n",
      "40/40 [==============================] - 1s 22ms/step\n",
      "Epoch 1: roc_auc_train: 0.6495113385510737, roc_auc_val: 0.8478652263374485, precision_train: 0.7857142857142857, precision_val: 0.46405228758169936, recall_train: 0.18940397350993377, recall_val: 0.4930555555555556, f1_train: 0.3052294557097118, f1_val: 0.4781144781144781\n",
      "95/95 [==============================] - 26s 272ms/step - loss: 0.4349 - accuracy: 0.8756 - val_loss: 0.2956 - val_accuracy: 0.8787\n",
      "Epoch 2/10\n",
      "189/189 [==============================] - 5s 23ms/step\n",
      "40/40 [==============================] - 1s 22ms/step\n",
      "Epoch 2: roc_auc_train: 0.6928263596227172, roc_auc_val: 0.8470201352145796, precision_train: 0.9, precision_val: 0.48936170212765956, recall_train: 0.22649006622516557, recall_val: 0.4791666666666667, f1_train: 0.3619047619047619, f1_val: 0.4842105263157895\n",
      "95/95 [==============================] - 28s 295ms/step - loss: 0.3272 - accuracy: 0.8913 - val_loss: 0.2969 - val_accuracy: 0.8850\n",
      "Epoch 3/10\n",
      "189/189 [==============================] - 4s 23ms/step\n",
      "40/40 [==============================] - 1s 23ms/step\n",
      "Epoch 3: roc_auc_train: 0.6920690347180413, roc_auc_val: 0.8315574172055653, precision_train: 0.953125, precision_val: 0.40993788819875776, recall_train: 0.2423841059602649, recall_val: 0.4583333333333333, f1_train: 0.3864836325237593, f1_val: 0.4327868852459016\n",
      "95/95 [==============================] - 30s 315ms/step - loss: 0.3095 - accuracy: 0.8978 - val_loss: 0.3685 - val_accuracy: 0.8646\n",
      "Epoch 4/10\n",
      "189/189 [==============================] - 5s 23ms/step\n",
      "40/40 [==============================] - 1s 21ms/step\n",
      "Epoch 4: roc_auc_train: 0.7163094521372667, roc_auc_val: 0.815996717617088, precision_train: 1.0, precision_val: 0.5569620253164557, recall_train: 0.24370860927152319, recall_val: 0.3055555555555556, f1_train: 0.3919062832800852, f1_val: 0.39461883408071746\n",
      "95/95 [==============================] - 29s 312ms/step - loss: 0.2963 - accuracy: 0.9029 - val_loss: 0.3999 - val_accuracy: 0.8944\n",
      "40/40 [==============================] - 1s 26ms/step - loss: 0.3289 - accuracy: 0.9043\n",
      "Test Loss: 0.32893773913383484, Test Accuracy: 0.9042721390724182\n",
      "40/40 [==============================] - 1s 22ms/step\n",
      "Test ROC AUC: 0.8469656815504872, Test Precision: 0.569620253164557, Test Recall: 0.3409090909090909, Test F1 Score: 0.42654028436018954\n"
     ]
    }
   ],
   "source": [
    "import numpy as np\n",
    "import tensorflow as tf\n",
    "from tensorflow.keras.models import Sequential\n",
    "from tensorflow.keras.layers import Dense, Dropout, GRU\n",
    "from tensorflow.keras.callbacks import Callback, EarlyStopping\n",
    "from sklearn.metrics import roc_auc_score, precision_score, recall_score, f1_score\n",
    "\n",
    "# Set the random seed for reproducibility\n",
    "seed_value = 42\n",
    "np.random.seed(seed_value)\n",
    "tf.random.set_seed(seed_value)\n",
    "\n",
    "# Custom callback to compute ROC AUC, Precision, Recall, and F1 Score after each epoch\n",
    "class MetricsCallback(Callback):\n",
    "    def __init__(self, training_data, validation_data):\n",
    "        self.x_train, self.y_train = training_data\n",
    "        self.x_val, self.y_val = validation_data\n",
    "\n",
    "    def on_epoch_end(self, epoch, logs=None):\n",
    "        y_train_pred = self.model.predict(self.x_train)\n",
    "        y_val_pred = self.model.predict(self.x_val)\n",
    "\n",
    "        # Convert predictions to binary (0 or 1)\n",
    "        y_train_pred_bin = (y_train_pred > 0.5).astype(int)\n",
    "        y_val_pred_bin = (y_val_pred > 0.5).astype(int)\n",
    "\n",
    "        # Calculate metrics\n",
    "        roc_auc_train = roc_auc_score(self.y_train, y_train_pred)\n",
    "        roc_auc_val = roc_auc_score(self.y_val, y_val_pred)\n",
    "        precision_train = precision_score(self.y_train, y_train_pred_bin)\n",
    "        precision_val = precision_score(self.y_val, y_val_pred_bin)\n",
    "        recall_train = recall_score(self.y_train, y_train_pred_bin)\n",
    "        recall_val = recall_score(self.y_val, y_val_pred_bin)\n",
    "        f1_train = f1_score(self.y_train, y_train_pred_bin)\n",
    "        f1_val = f1_score(self.y_val, y_val_pred_bin)\n",
    "\n",
    "        print(f'Epoch {epoch+1}: roc_auc_train: {roc_auc_train}, roc_auc_val: {roc_auc_val}, '\n",
    "              f'precision_train: {precision_train}, precision_val: {precision_val}, '\n",
    "              f'recall_train: {recall_train}, recall_val: {recall_val}, '\n",
    "              f'f1_train: {f1_train}, f1_val: {f1_val}')\n",
    "\n",
    "# Define the RNN model with Dropout and GRU\n",
    "model = Sequential()\n",
    "model.add(GRU(50, return_sequences=False, input_shape=(48, 7403)))\n",
    "model.add(Dropout(0.1)) \n",
    "model.add(Dense(1, activation='sigmoid'))\n",
    "\n",
    "# Compile the model\n",
    "model.compile(optimizer='adam', loss='binary_crossentropy', metrics=['accuracy'])\n",
    "\n",
    "# Early stopping callback\n",
    "early_stopping = EarlyStopping(monitor='val_loss', patience=3)\n",
    "\n",
    "# Initialize the metrics callback\n",
    "metrics_callback = MetricsCallback(training_data=(rnn_input_train, train_labels),\n",
    "                                   validation_data=(rnn_input_val, val_labels))\n",
    "\n",
    "# Train the model with validation data and callbacks for early stopping and metrics\n",
    "model.fit(rnn_input_train, train_labels, epochs=10, batch_size=64, \n",
    "          validation_data=(rnn_input_val, val_labels), callbacks=[metrics_callback, early_stopping])\n",
    "\n",
    "# Evaluate the model on the test set\n",
    "loss, accuracy = model.evaluate(rnn_input_test, test_labels)\n",
    "print(f\"Test Loss: {loss}, Test Accuracy: {accuracy}\")\n",
    "\n",
    "# Calculate and print ROC AUC, Precision, Recall, and F1 Score for the test set\n",
    "test_predictions = model.predict(rnn_input_test)\n",
    "test_predictions_bin = (test_predictions > 0.5).astype(int)\n",
    "roc_auc_test = roc_auc_score(test_labels, test_predictions)\n",
    "precision_test = precision_score(test_labels, test_predictions_bin)\n",
    "recall_test = recall_score(test_labels, test_predictions_bin)\n",
    "f1_test = f1_score(test_labels, test_predictions_bin)\n",
    "\n",
    "print(f\"Test ROC AUC: {roc_auc_test}, Test Precision: {precision_test}, \"\n",
    "      f\"Test Recall: {recall_test}, Test F1 Score: {f1_test}\")\n"
   ]
  },
  {
   "cell_type": "code",
   "execution_count": 16,
   "id": "97730ad6-d498-4047-9b0c-978d61a8cc3e",
   "metadata": {
    "tags": []
   },
   "outputs": [
    {
     "data": {
      "image/png": "[encoded data removed]",
      "text/plain": [
       "<Figure size 1500x800 with 1 Axes>"
      ]
     },
     "metadata": {},
     "output_type": "display_data"
    }
   ],
   "source": [
    "import pandas as pd\n",
    "import seaborn as sns\n",
    "import matplotlib.pyplot as plt\n",
    "\n",
    "# Data for each model\n",
    "data = {\n",
    "    'Model': ['GRU', 'GRU after adjusting parameters'],\n",
    "    'Accuracy': [0.9035, 0.9043],\n",
    "    'ROC AUC': [0.8527, 0.8469],\n",
    "    'Precision Class 1': [0.56, 0.57],   # Precision for class 1\n",
    "    'Recall Class 1': [0.37, 0.34],   # Recall for class 1\n",
    "    'F1-Score Class 1': [0.45, 0.43],   # F1-Score for class 1\n",
    "}\n",
    "\n",
    "# Create DataFrame\n",
    "df = pd.DataFrame(data)\n",
    "\n",
    "# Melt DataFrame for seaborn plotting\n",
    "df_melted = df.melt(id_vars='Model', var_name='Metric', value_name='Score')\n",
    "\n",
    "# Plotting\n",
    "plt.figure(figsize=(15, 8))\n",
    "sns.barplot(x='Metric', y='Score', hue='Model', data=df_melted)\n",
    "plt.title('Performance Metrics of Different Machine Learning Models')\n",
    "plt.xlabel('Metric')\n",
    "plt.ylabel('Score')\n",
    "plt.legend(title='Model', bbox_to_anchor=(1.05, 1), loc='upper left')\n",
    "plt.xticks(rotation=45)\n",
    "plt.tight_layout()\n",
    "plt.show()\n"
   ]
  },
  {
   "cell_type": "markdown",
   "id": "a0fc35f0-fef7-4602-993f-538985158e20",
   "metadata": {},
   "source": [
    "As once can see here, the model only improved in two categories (Accuracy & Precision) and regressed in three (ROC AUC, Recall, and F1-Score). This is common, as the hyperparameter tuning code done was not very exhaustive at all. Taking an exhaustive approach to hyper parameter tuning might improve overall results with the one negative that is higher computational expense and time. "
   ]
  },
  {
   "cell_type": "code",
   "execution_count": null,
   "id": "915d53f6-1f80-462c-a631-85d0a32741d3",
   "metadata": {},
   "outputs": [],
   "source": []
  }
 ],
 "metadata": {
  "kernelspec": {
   "display_name": "Python 3 (ipykernel)",
   "language": "python",
   "name": "python3"
  },
  "language_info": {
   "codemirror_mode": {
    "name": "ipython",
    "version": 3
   },
   "file_extension": ".py",
   "mimetype": "text/x-python",
   "name": "python",
   "nbconvert_exporter": "python",
   "pygments_lexer": "ipython3",
   "version": "3.11.5"
  }
 },
 "nbformat": 4,
 "nbformat_minor": 5
}
