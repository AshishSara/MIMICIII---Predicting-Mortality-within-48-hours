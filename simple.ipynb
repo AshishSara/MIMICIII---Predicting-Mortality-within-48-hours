{
 "cells": [
  {
   "cell_type": "markdown",
   "id": "db133712f6e3a76",
   "metadata": {},
   "source": [
    "The purpose of this notebook is to demonstrate profficiency in the preprocessing steps. The more complex \"ML Model.ipynb\" notebook only required very few preprocessing steps. Hence, to demonstrate profficiency in the other preprocessing steps, this notebook has been created. It aims to take 2 raw MIMIC-III tables and convert them into data that can then be used to run various machine learning models. In this example, the machine learning model applied is logistic regression. "
   ]
  },
  {
   "cell_type": "markdown",
   "id": "e4bacece9cfa85ee",
   "metadata": {},
   "source": [
    "Library Imports: You import necessary Python libraries and modules for data handling (pandas), machine learning (scikit-learn), text processing (TfidfVectorizer), and handling imbalanced datasets (SMOTE from imblearn).\n",
    "\n",
    "Function to Calculate Age: calculate_age function takes the date of birth (dob) and admission time (admittime), and calculates the age of the patient at the time of admission.\n",
    "\n",
    "Data Extraction:\n",
    "\n",
    "Load PATIENTS and ADMISSIONS tables from the MIMIC-III dataset.\n",
    "Merge these tables on the SUBJECT_ID field to combine patient demographic data with their admission details."
   ]
  },
  {
   "cell_type": "code",
   "execution_count": 14,
   "id": "f6373b07d8462017",
   "metadata": {
    "ExecuteTime": {
     "end_time": "2023-12-04T20:43:16.985984Z",
     "start_time": "2023-12-04T20:43:16.169247Z"
    },
    "collapsed": false,
    "jupyter": {
     "outputs_hidden": false
    }
   },
   "outputs": [
    {
     "name": "stdout",
     "output_type": "stream",
     "text": [
      "Accuracy: 0.9037809426924381\n",
      "ROC AUC Score: 0.5\n"
     ]
    }
   ],
   "source": [
    "import pandas as pd\n",
    "from datetime import datetime\n",
    "from sklearn.model_selection import train_test_split\n",
    "from sklearn.linear_model import LogisticRegression\n",
    "from sklearn.metrics import accuracy_score, roc_auc_score\n",
    "from sklearn.impute import SimpleImputer\n",
    "\n",
    "# Function to calculate age\n",
    "def calculate_age(dob, admittime):\n",
    "    dob = datetime.strptime(dob, '%Y-%m-%d %H:%M:%S')\n",
    "    admittime = datetime.strptime(admittime, '%Y-%m-%d %H:%M:%S')\n",
    "    return admittime.year - dob.year - ((admittime.month, admittime.day) < (dob.month, dob.day))\n",
    "\n",
    "# Load data\n",
    "patients = pd.read_csv('~/Desktop/mimic-iii-clinical-database-1.4/PATIENTS.csv')\n",
    "admissions = pd.read_csv('~/Desktop/mimic-iii-clinical-database-1.4/ADMISSIONS.csv')\n",
    "\n",
    "# Merge datasets on subject_id\n",
    "data = pd.merge(patients, admissions, on='SUBJECT_ID')\n",
    "\n",
    "# Select relevant features\n",
    "data = data[['SUBJECT_ID', 'GENDER', 'DOB', 'ADMITTIME', 'DEATHTIME']]\n",
    "\n",
    "# Calculate age and convert to numeric\n",
    "data['AGE'] = data.apply(lambda x: calculate_age(x['DOB'], x['ADMITTIME']), axis=1)\n",
    "data.drop(['DOB', 'ADMITTIME'], axis=1, inplace=True)\n",
    "\n",
    "# Create a target variable for mortality\n",
    "data['MORTALITY'] = data['DEATHTIME'].apply(lambda x: 0 if pd.isnull(x) else 1)\n",
    "data.drop('DEATHTIME', axis=1, inplace=True)\n",
    "\n",
    "# Encode gender\n",
    "data['GENDER'] = data['GENDER'].map({'M': 1, 'F': 0})\n",
    "\n",
    "# Handle missing values\n",
    "imputer = SimpleImputer(strategy='mean')\n",
    "data[['AGE']] = imputer.fit_transform(data[['AGE']])\n",
    "\n",
    "# Split data into features and target\n",
    "X = data.drop('MORTALITY', axis=1)\n",
    "y = data['MORTALITY']\n",
    "\n",
    "# Split data into training and testing sets\n",
    "X_train, X_test, y_train, y_test = train_test_split(X, y, test_size=0.2, random_state=42)\n",
    "\n",
    "# Initialize and train a logistic regression model\n",
    "model = LogisticRegression()\n",
    "model.fit(X_train, y_train)\n",
    "\n",
    "# Predictions and evaluations\n",
    "y_pred = model.predict(X_test)\n",
    "accuracy = accuracy_score(y_test, y_pred)\n",
    "roc_auc = roc_auc_score(y_test, y_pred)\n",
    "\n",
    "print(f'Accuracy: {accuracy}')\n",
    "print(f'ROC AUC Score: {roc_auc}')\n"
   ]
  },
  {
   "cell_type": "markdown",
   "id": "376b1d407cfaa583",
   "metadata": {},
   "source": []
  }
 ],
 "metadata": {
  "kernelspec": {
   "display_name": "Python 3 (ipykernel)",
   "language": "python",
   "name": "python3"
  },
  "language_info": {
   "codemirror_mode": {
    "name": "ipython",
    "version": 3
   },
   "file_extension": ".py",
   "mimetype": "text/x-python",
   "name": "python",
   "nbconvert_exporter": "python",
   "pygments_lexer": "ipython3",
   "version": "3.11.5"
  }
 },
 "nbformat": 4,
 "nbformat_minor": 5
}
